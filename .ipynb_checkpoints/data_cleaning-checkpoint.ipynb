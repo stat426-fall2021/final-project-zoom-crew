{
 "cells": [
  {
   "cell_type": "code",
   "execution_count": 1,
   "id": "c4007f5e",
   "metadata": {},
   "outputs": [],
   "source": [
    "import pandas as pd\n",
    "import numpy as np"
   ]
  },
  {
   "cell_type": "code",
   "execution_count": 2,
   "id": "79d8956d",
   "metadata": {},
   "outputs": [],
   "source": [
    "data = pd.read_csv(\"IMDb ratings.csv\")"
   ]
  },
  {
   "cell_type": "code",
   "execution_count": 11,
   "id": "ad9f00ee",
   "metadata": {},
   "outputs": [],
   "source": [
    "ratingsclean = data.drop(['allgenders_0age_votes','allgenders_18age_votes','allgenders_30age_votes','allgenders_45age_votes','males_allages_votes','males_0age_votes','males_18age_votes','males_30age_votes','males_45age_votes','females_allages_votes','females_0age_votes','females_18age_votes','females_30age_votes','females_45age_votes','top1000_voters_rating','top1000_voters_votes','us_voters_rating','us_voters_votes','non_us_voters_rating','non_us_voters_votes'], 1)"
   ]
  },
  {
   "cell_type": "code",
   "execution_count": 12,
   "id": "03a635d4",
   "metadata": {},
   "outputs": [],
   "source": [
    "ratingsclean.to_csv('Ratings Clean.csv')"
   ]
  }
 ],
 "metadata": {
  "kernelspec": {
   "display_name": "Python 3 (ipykernel)",
   "language": "python",
   "name": "python3"
  },
  "language_info": {
   "codemirror_mode": {
    "name": "ipython",
    "version": 3
   },
   "file_extension": ".py",
   "mimetype": "text/x-python",
   "name": "python",
   "nbconvert_exporter": "python",
   "pygments_lexer": "ipython3",
   "version": "3.8.8"
  }
 },
 "nbformat": 4,
 "nbformat_minor": 5
}
