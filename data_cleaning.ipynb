{
 "cells": [
  {
   "cell_type": "markdown",
   "id": "771ee6b3",
   "metadata": {},
   "source": [
    "# Cleaning the data"
   ]
  },
  {
   "cell_type": "code",
   "execution_count": 2,
   "id": "c4007f5e",
   "metadata": {},
   "outputs": [],
   "source": [
    "import pandas as pd\n",
    "import numpy as np"
   ]
  },
  {
   "cell_type": "markdown",
   "id": "b6aa5691",
   "metadata": {},
   "source": [
    "Read in ratings data"
   ]
  },
  {
   "cell_type": "code",
   "execution_count": 3,
   "id": "79d8956d",
   "metadata": {},
   "outputs": [],
   "source": [
    "ratings_messy = pd.read_csv(\"IMDb ratings.csv\")"
   ]
  },
  {
   "cell_type": "markdown",
   "id": "1dfa705e",
   "metadata": {},
   "source": [
    "Drop irrelevant columns"
   ]
  },
  {
   "cell_type": "code",
   "execution_count": 4,
   "id": "ad9f00ee",
   "metadata": {},
   "outputs": [
    {
     "name": "stderr",
     "output_type": "stream",
     "text": [
      "/var/folders/5r/j3mtn4sx1wv_xsdwft49lcdm0000gn/T/ipykernel_60568/920480223.py:1: FutureWarning: In a future version of pandas all arguments of DataFrame.drop except for the argument 'labels' will be keyword-only\n",
      "  ratings = ratings_messy.drop(['allgenders_0age_votes',\n"
     ]
    }
   ],
   "source": [
    "ratings = ratings_messy.drop(['allgenders_0age_votes',\n",
    "                              'allgenders_18age_votes',\n",
    "                              'allgenders_30age_votes',\n",
    "                              'allgenders_45age_votes',\n",
    "                              'males_allages_votes',\n",
    "                              'males_0age_votes',\n",
    "                              'males_18age_votes',\n",
    "                              'males_30age_votes',\n",
    "                              'males_45age_votes',\n",
    "                              'females_allages_votes',\n",
    "                              'females_0age_votes',\n",
    "                              'females_18age_votes',\n",
    "                              'females_30age_votes',\n",
    "                              'females_45age_votes',\n",
    "                              'top1000_voters_rating',\n",
    "                              'top1000_voters_votes',\n",
    "                              'us_voters_rating',\n",
    "                              'us_voters_votes',\n",
    "                              'non_us_voters_rating',\n",
    "                              'non_us_voters_votes'],\n",
    "                             1)"
   ]
  },
  {
   "cell_type": "markdown",
   "id": "bcb9d525",
   "metadata": {},
   "source": [
    "# Integrate genres into the clean dataframe"
   ]
  },
  {
   "cell_type": "code",
   "execution_count": 5,
   "id": "fa10c245",
   "metadata": {},
   "outputs": [
    {
     "data": {
      "text/plain": [
       "85855"
      ]
     },
     "execution_count": 5,
     "metadata": {},
     "output_type": "execute_result"
    }
   ],
   "source": [
    "len(ratings.index)"
   ]
  },
  {
   "cell_type": "markdown",
   "id": "8924edbc",
   "metadata": {},
   "source": [
    "There are 85855 films in our dataset, each of which have one or more genres associated with them in the following format:  \n",
    "  \n",
    "0                          Romance  \n",
    "1          Biography, Crime, Drama  \n",
    "2                            Drama  \n",
    "3                   Drama, History  \n",
    "4        Adventure, Drama, Fantasy  \n",
    "                   ...              \n",
    "85850                       Comedy  \n",
    "85851                Comedy, Drama  \n",
    "85852                        Drama  \n",
    "85853                Drama, Family  \n",
    "85854                        Drama  \n",
    "  \n",
    "We see that some films have multiple genres in the same string, so we have some cleaning to do. We need to figure out a way to find all the unique genres and create columns for each one, indicating which genre is associated with a given film using a 1 (True) or 0 (False)."
   ]
  },
  {
   "cell_type": "markdown",
   "id": "6e7e8e58",
   "metadata": {},
   "source": [
    "Start by creating a list of the genres for each movie."
   ]
  },
  {
   "cell_type": "code",
   "execution_count": 6,
   "id": "0a80df0a",
   "metadata": {},
   "outputs": [
    {
     "name": "stderr",
     "output_type": "stream",
     "text": [
      "/opt/anaconda3/lib/python3.8/site-packages/IPython/core/interactiveshell.py:3441: DtypeWarning: Columns (3) have mixed types.Specify dtype option on import or set low_memory=False.\n",
      "  exec(code_obj, self.user_global_ns, self.user_ns)\n"
     ]
    }
   ],
   "source": [
    "genres = pd.read_csv('IMDb movies.csv').genre\n",
    "ratings['genres'] = genres"
   ]
  },
  {
   "cell_type": "markdown",
   "id": "c5a06ff0",
   "metadata": {},
   "source": [
    "The following code iterates through the list of movie's genres and, if there are multiple, splits them into lists. If we come across a genre that we haven't seen yet, we add it to the list ```genres_unique```."
   ]
  },
  {
   "cell_type": "code",
   "execution_count": 7,
   "id": "5f21c075",
   "metadata": {},
   "outputs": [],
   "source": [
    "genres_unique = []\n",
    "\n",
    "for film in range(0,len(genres)):\n",
    "    film_genres = genres[film].split(\", \")\n",
    "    for genre in film_genres:\n",
    "        if (genre not in genres_unique):\n",
    "            genres_unique.append(genre)"
   ]
  },
  {
   "cell_type": "markdown",
   "id": "9aeaeb1b",
   "metadata": {},
   "source": [
    "Let's check if the list is indeed unique:"
   ]
  },
  {
   "cell_type": "code",
   "execution_count": 11,
   "id": "1c2fb57f",
   "metadata": {},
   "outputs": [],
   "source": [
    "#pd.Series(genres_unique).nunique()\n",
    "# 25\n",
    "#len(genres_unique)\n",
    "# 25"
   ]
  },
  {
   "cell_type": "markdown",
   "id": "157f26aa",
   "metadata": {},
   "source": [
    "There are 25 unique genres associated with the films in the dataset. Now we will cycle through each genre, creating a column for each one and assigning 1 if the film contains that genre, and 0 if it doesn't."
   ]
  },
  {
   "cell_type": "code",
   "execution_count": 12,
   "id": "4037780c",
   "metadata": {},
   "outputs": [],
   "source": [
    "for genre in genres_unique:\n",
    "    ratings[genre] = ratings['genres'].str.contains(genre).astype(int)\n",
    "\n",
    "# Drop the messy genres column\n",
    "ratings = ratings.drop('genres', axis=1)"
   ]
  },
  {
   "cell_type": "markdown",
   "id": "f2ce4ef0",
   "metadata": {},
   "source": [
    "The dataset now includes genre data in one-hot encoded form."
   ]
  },
  {
   "cell_type": "markdown",
   "id": "b733ca6a",
   "metadata": {},
   "source": [
    "Export data:"
   ]
  },
  {
   "cell_type": "code",
   "execution_count": 13,
   "id": "03a635d4",
   "metadata": {},
   "outputs": [
    {
     "ename": "NameError",
     "evalue": "name 'ratingsclean' is not defined",
     "output_type": "error",
     "traceback": [
      "\u001b[0;31m---------------------------------------------------------------------------\u001b[0m",
      "\u001b[0;31mNameError\u001b[0m                                 Traceback (most recent call last)",
      "\u001b[0;32m/var/folders/5r/j3mtn4sx1wv_xsdwft49lcdm0000gn/T/ipykernel_60568/1608174904.py\u001b[0m in \u001b[0;36m<module>\u001b[0;34m\u001b[0m\n\u001b[0;32m----> 1\u001b[0;31m \u001b[0mratingsclean\u001b[0m\u001b[0;34m.\u001b[0m\u001b[0mto_csv\u001b[0m\u001b[0;34m(\u001b[0m\u001b[0;34m'ratings_clean.csv'\u001b[0m\u001b[0;34m)\u001b[0m\u001b[0;34m\u001b[0m\u001b[0;34m\u001b[0m\u001b[0m\n\u001b[0m",
      "\u001b[0;31mNameError\u001b[0m: name 'ratingsclean' is not defined"
     ]
    }
   ],
   "source": [
    "ratingsclean.to_csv('ratings_clean.csv')"
   ]
  },
  {
   "cell_type": "code",
   "execution_count": null,
   "id": "b3a9cfba",
   "metadata": {},
   "outputs": [],
   "source": []
  }
 ],
 "metadata": {
  "kernelspec": {
   "display_name": "Python 3 (ipykernel)",
   "language": "python",
   "name": "python3"
  },
  "language_info": {
   "codemirror_mode": {
    "name": "ipython",
    "version": 3
   },
   "file_extension": ".py",
   "mimetype": "text/x-python",
   "name": "python",
   "nbconvert_exporter": "python",
   "pygments_lexer": "ipython3",
   "version": "3.8.8"
  }
 },
 "nbformat": 4,
 "nbformat_minor": 5
}
