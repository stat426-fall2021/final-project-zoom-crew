{
 "cells": [
  {
   "cell_type": "markdown",
   "id": "99b1f496",
   "metadata": {},
   "source": [
    "# Cleaning the data"
   ]
  },
  {
   "cell_type": "code",
   "execution_count": 1,
   "id": "c4007f5e",
   "metadata": {},
   "outputs": [],
   "source": [
    "import pandas as pd\n",
    "import numpy as np"
   ]
  },
  {
   "cell_type": "markdown",
   "id": "058c1800",
   "metadata": {},
   "source": [
    "Read in ratings and movies data"
   ]
  },
  {
   "cell_type": "code",
   "execution_count": 3,
   "id": "79d8956d",
   "metadata": {},
   "outputs": [
    {
     "name": "stderr",
     "output_type": "stream",
     "text": [
      "/opt/anaconda3/lib/python3.8/site-packages/IPython/core/interactiveshell.py:3441: DtypeWarning: Columns (3) have mixed types.Specify dtype option on import or set low_memory=False.\n",
      "  exec(code_obj, self.user_global_ns, self.user_ns)\n"
     ]
    }
   ],
   "source": [
    "ratings_messy = pd.read_csv(\"IMDb ratings.csv\")\n",
    "films_messy = pd.read_csv(\"IMDb movies.csv\")"
   ]
  },
  {
   "cell_type": "markdown",
   "id": "5a73ca42",
   "metadata": {},
   "source": [
    "Set title IDs as index to smoothly join both tables, then drop unnecessary columns."
   ]
  },
  {
   "cell_type": "code",
   "execution_count": 4,
   "id": "cd88b281",
   "metadata": {
    "scrolled": true
   },
   "outputs": [],
   "source": [
    "films_messy = films_messy.set_index('imdb_title_id')\n",
    "ratings_messy = ratings_messy.set_index('imdb_title_id')"
   ]
  },
  {
   "cell_type": "markdown",
   "id": "77a7142e",
   "metadata": {},
   "source": [
    "Check how many movies we can work with in this data, since metascore is our response variable."
   ]
  },
  {
   "cell_type": "code",
   "execution_count": 6,
   "id": "1a5e2a4f",
   "metadata": {},
   "outputs": [
    {
     "data": {
      "text/plain": [
       "13305"
      ]
     },
     "execution_count": 6,
     "metadata": {},
     "output_type": "execute_result"
    }
   ],
   "source": [
    "len(films_messy['metascore'].dropna())"
   ]
  },
  {
   "cell_type": "markdown",
   "id": "bb2b8699",
   "metadata": {},
   "source": [
    "Join both tables, then drop unnecessary columns."
   ]
  },
  {
   "cell_type": "code",
   "execution_count": 7,
   "id": "ea128323",
   "metadata": {},
   "outputs": [
    {
     "data": {
      "text/plain": [
       "Index(['title', 'original_title', 'year', 'date_published', 'genre',\n",
       "       'duration', 'country', 'language', 'director', 'writer',\n",
       "       'production_company', 'actors', 'description', 'avg_vote', 'votes',\n",
       "       'budget', 'usa_gross_income', 'worlwide_gross_income', 'metascore',\n",
       "       'reviews_from_users', 'reviews_from_critics', 'weighted_average_vote',\n",
       "       'total_votes', 'mean_vote', 'median_vote', 'votes_10', 'votes_9',\n",
       "       'votes_8', 'votes_7', 'votes_6', 'votes_5', 'votes_4', 'votes_3',\n",
       "       'votes_2', 'votes_1', 'allgenders_0age_avg_vote',\n",
       "       'allgenders_0age_votes', 'allgenders_18age_avg_vote',\n",
       "       'allgenders_18age_votes', 'allgenders_30age_avg_vote',\n",
       "       'allgenders_30age_votes', 'allgenders_45age_avg_vote',\n",
       "       'allgenders_45age_votes', 'males_allages_avg_vote',\n",
       "       'males_allages_votes', 'males_0age_avg_vote', 'males_0age_votes',\n",
       "       'males_18age_avg_vote', 'males_18age_votes', 'males_30age_avg_vote',\n",
       "       'males_30age_votes', 'males_45age_avg_vote', 'males_45age_votes',\n",
       "       'females_allages_avg_vote', 'females_allages_votes',\n",
       "       'females_0age_avg_vote', 'females_0age_votes', 'females_18age_avg_vote',\n",
       "       'females_18age_votes', 'females_30age_avg_vote', 'females_30age_votes',\n",
       "       'females_45age_avg_vote', 'females_45age_votes',\n",
       "       'top1000_voters_rating', 'top1000_voters_votes', 'us_voters_rating',\n",
       "       'us_voters_votes', 'non_us_voters_rating', 'non_us_voters_votes'],\n",
       "      dtype='object')"
      ]
     },
     "execution_count": 7,
     "metadata": {},
     "output_type": "execute_result"
    }
   ],
   "source": [
    "combined_messy = pd.concat([films_messy, ratings_messy], axis=1)\n",
    "combined_messy.columns"
   ]
  },
  {
   "cell_type": "code",
   "execution_count": 21,
   "id": "ad9f00ee",
   "metadata": {},
   "outputs": [
    {
     "name": "stderr",
     "output_type": "stream",
     "text": [
      "/var/folders/5r/j3mtn4sx1wv_xsdwft49lcdm0000gn/T/ipykernel_75831/2136986086.py:1: FutureWarning: In a future version of pandas all arguments of DataFrame.drop except for the argument 'labels' will be keyword-only\n",
      "  ratings = combined_messy.drop(['original_title',\n"
     ]
    }
   ],
   "source": [
    "ratings = combined_messy.drop(['original_title',\n",
    "                               'date_published',\n",
    "                               'duration',\n",
    "                               'country',\n",
    "                               'language',\n",
    "                               'director',\n",
    "                               'writer',\n",
    "                               'production_company',\n",
    "                               'actors',\n",
    "                               'description',\n",
    "                               'avg_vote',\n",
    "                               'votes',\n",
    "                               'budget',\n",
    "                               'usa_gross_income',\n",
    "                               'worlwide_gross_income',\n",
    "                               'reviews_from_users',\n",
    "                               'reviews_from_critics',\n",
    "                               'allgenders_0age_avg_vote', # Dropping this because so many NAs\n",
    "                               'allgenders_0age_votes',\n",
    "                               'allgenders_18age_votes',\n",
    "                               'allgenders_30age_votes',\n",
    "                               'allgenders_45age_votes',\n",
    "                               'males_allages_votes',\n",
    "                               'males_0age_avg_vote',      # Dropping this because so many NAs\n",
    "                               'males_0age_votes',\n",
    "                               'males_18age_votes',\n",
    "                               'males_30age_votes',\n",
    "                               'males_45age_votes',\n",
    "                               'females_allages_votes',\n",
    "                               'females_0age_avg_vote',    # Dropping this because so many NAs\n",
    "                               'females_0age_votes',\n",
    "                               'females_18age_votes',\n",
    "                               'females_30age_votes',\n",
    "                               'females_45age_votes',\n",
    "                               'top1000_voters_rating',\n",
    "                               'top1000_voters_votes',\n",
    "                               'us_voters_rating',\n",
    "                               'us_voters_votes',\n",
    "                               'non_us_voters_rating',\n",
    "                               'non_us_voters_votes'],\n",
    "                              1)"
   ]
  },
  {
   "cell_type": "markdown",
   "id": "0e3e1d15",
   "metadata": {},
   "source": [
    "As alluded to in the commented code, we planned to keep all of the average vote columns, but including the ones from critics under the age of 18 left a lot of missing data. This is presumably because it's not very common for people younger than 18 to be professional movie critics. The only column we want to lose data to is the metascore column, as that is our response."
   ]
  },
  {
   "cell_type": "code",
   "execution_count": 22,
   "id": "db0597fb",
   "metadata": {},
   "outputs": [],
   "source": [
    "ratings = ratings.dropna()"
   ]
  },
  {
   "cell_type": "code",
   "execution_count": 23,
   "id": "8496de79",
   "metadata": {},
   "outputs": [
    {
     "data": {
      "text/plain": [
       "13216"
      ]
     },
     "execution_count": 23,
     "metadata": {},
     "output_type": "execute_result"
    }
   ],
   "source": [
    "len(ratings)"
   ]
  },
  {
   "cell_type": "markdown",
   "id": "38592943",
   "metadata": {},
   "source": [
    "This looks good. We're only missing 89 movies that have a reported metascore to missing values from other columns."
   ]
  },
  {
   "cell_type": "code",
   "execution_count": 24,
   "id": "4dac38b8",
   "metadata": {},
   "outputs": [
    {
     "data": {
      "text/html": [
       "<div>\n",
       "<style scoped>\n",
       "    .dataframe tbody tr th:only-of-type {\n",
       "        vertical-align: middle;\n",
       "    }\n",
       "\n",
       "    .dataframe tbody tr th {\n",
       "        vertical-align: top;\n",
       "    }\n",
       "\n",
       "    .dataframe thead th {\n",
       "        text-align: right;\n",
       "    }\n",
       "</style>\n",
       "<table border=\"1\" class=\"dataframe\">\n",
       "  <thead>\n",
       "    <tr style=\"text-align: right;\">\n",
       "      <th></th>\n",
       "      <th>title</th>\n",
       "      <th>year</th>\n",
       "      <th>genre</th>\n",
       "      <th>metascore</th>\n",
       "      <th>weighted_average_vote</th>\n",
       "      <th>total_votes</th>\n",
       "      <th>mean_vote</th>\n",
       "      <th>median_vote</th>\n",
       "      <th>votes_10</th>\n",
       "      <th>votes_9</th>\n",
       "      <th>...</th>\n",
       "      <th>allgenders_30age_avg_vote</th>\n",
       "      <th>allgenders_45age_avg_vote</th>\n",
       "      <th>males_allages_avg_vote</th>\n",
       "      <th>males_18age_avg_vote</th>\n",
       "      <th>males_30age_avg_vote</th>\n",
       "      <th>males_45age_avg_vote</th>\n",
       "      <th>females_allages_avg_vote</th>\n",
       "      <th>females_18age_avg_vote</th>\n",
       "      <th>females_30age_avg_vote</th>\n",
       "      <th>females_45age_avg_vote</th>\n",
       "    </tr>\n",
       "    <tr>\n",
       "      <th>imdb_title_id</th>\n",
       "      <th></th>\n",
       "      <th></th>\n",
       "      <th></th>\n",
       "      <th></th>\n",
       "      <th></th>\n",
       "      <th></th>\n",
       "      <th></th>\n",
       "      <th></th>\n",
       "      <th></th>\n",
       "      <th></th>\n",
       "      <th></th>\n",
       "      <th></th>\n",
       "      <th></th>\n",
       "      <th></th>\n",
       "      <th></th>\n",
       "      <th></th>\n",
       "      <th></th>\n",
       "      <th></th>\n",
       "      <th></th>\n",
       "      <th></th>\n",
       "      <th></th>\n",
       "    </tr>\n",
       "  </thead>\n",
       "  <tbody>\n",
       "    <tr>\n",
       "      <th>tt0006864</th>\n",
       "      <td>Intolerance</td>\n",
       "      <td>1916</td>\n",
       "      <td>Drama, History</td>\n",
       "      <td>99.0</td>\n",
       "      <td>7.8</td>\n",
       "      <td>13875</td>\n",
       "      <td>7.8</td>\n",
       "      <td>8.0</td>\n",
       "      <td>3477</td>\n",
       "      <td>2230</td>\n",
       "      <td>...</td>\n",
       "      <td>7.7</td>\n",
       "      <td>7.8</td>\n",
       "      <td>7.8</td>\n",
       "      <td>7.9</td>\n",
       "      <td>7.7</td>\n",
       "      <td>7.8</td>\n",
       "      <td>7.5</td>\n",
       "      <td>7.2</td>\n",
       "      <td>7.4</td>\n",
       "      <td>8.0</td>\n",
       "    </tr>\n",
       "    <tr>\n",
       "      <th>tt0017136</th>\n",
       "      <td>Metropolis</td>\n",
       "      <td>1927</td>\n",
       "      <td>Drama, Sci-Fi</td>\n",
       "      <td>98.0</td>\n",
       "      <td>8.3</td>\n",
       "      <td>156076</td>\n",
       "      <td>8.1</td>\n",
       "      <td>8.0</td>\n",
       "      <td>37520</td>\n",
       "      <td>36112</td>\n",
       "      <td>...</td>\n",
       "      <td>8.2</td>\n",
       "      <td>8.3</td>\n",
       "      <td>8.3</td>\n",
       "      <td>8.3</td>\n",
       "      <td>8.2</td>\n",
       "      <td>8.3</td>\n",
       "      <td>8.3</td>\n",
       "      <td>8.2</td>\n",
       "      <td>8.3</td>\n",
       "      <td>8.3</td>\n",
       "    </tr>\n",
       "    <tr>\n",
       "      <th>tt0018037</th>\n",
       "      <td>Il cantante di jazz</td>\n",
       "      <td>1927</td>\n",
       "      <td>Drama, Music, Musical</td>\n",
       "      <td>66.0</td>\n",
       "      <td>6.5</td>\n",
       "      <td>8866</td>\n",
       "      <td>6.8</td>\n",
       "      <td>7.0</td>\n",
       "      <td>999</td>\n",
       "      <td>589</td>\n",
       "      <td>...</td>\n",
       "      <td>6.4</td>\n",
       "      <td>6.6</td>\n",
       "      <td>6.4</td>\n",
       "      <td>6.5</td>\n",
       "      <td>6.4</td>\n",
       "      <td>6.6</td>\n",
       "      <td>6.6</td>\n",
       "      <td>6.7</td>\n",
       "      <td>6.4</td>\n",
       "      <td>6.8</td>\n",
       "    </tr>\n",
       "    <tr>\n",
       "      <th>tt0018773</th>\n",
       "      <td>Il circo</td>\n",
       "      <td>1928</td>\n",
       "      <td>Comedy, Romance</td>\n",
       "      <td>90.0</td>\n",
       "      <td>8.1</td>\n",
       "      <td>27414</td>\n",
       "      <td>7.9</td>\n",
       "      <td>8.0</td>\n",
       "      <td>4542</td>\n",
       "      <td>5699</td>\n",
       "      <td>...</td>\n",
       "      <td>8.1</td>\n",
       "      <td>8.1</td>\n",
       "      <td>8.1</td>\n",
       "      <td>8.2</td>\n",
       "      <td>8.1</td>\n",
       "      <td>8.1</td>\n",
       "      <td>8.2</td>\n",
       "      <td>8.3</td>\n",
       "      <td>8.1</td>\n",
       "      <td>8.2</td>\n",
       "    </tr>\n",
       "    <tr>\n",
       "      <th>tt0019777</th>\n",
       "      <td>The Cocoanuts</td>\n",
       "      <td>1929</td>\n",
       "      <td>Comedy, Musical</td>\n",
       "      <td>69.0</td>\n",
       "      <td>7.0</td>\n",
       "      <td>6900</td>\n",
       "      <td>7.2</td>\n",
       "      <td>7.0</td>\n",
       "      <td>813</td>\n",
       "      <td>496</td>\n",
       "      <td>...</td>\n",
       "      <td>6.9</td>\n",
       "      <td>7.1</td>\n",
       "      <td>6.9</td>\n",
       "      <td>6.8</td>\n",
       "      <td>6.8</td>\n",
       "      <td>7.1</td>\n",
       "      <td>7.2</td>\n",
       "      <td>7.1</td>\n",
       "      <td>7.1</td>\n",
       "      <td>7.3</td>\n",
       "    </tr>\n",
       "  </tbody>\n",
       "</table>\n",
       "<p>5 rows × 29 columns</p>\n",
       "</div>"
      ],
      "text/plain": [
       "                             title  year                  genre  metascore  \\\n",
       "imdb_title_id                                                                \n",
       "tt0006864              Intolerance  1916         Drama, History       99.0   \n",
       "tt0017136               Metropolis  1927          Drama, Sci-Fi       98.0   \n",
       "tt0018037      Il cantante di jazz  1927  Drama, Music, Musical       66.0   \n",
       "tt0018773                 Il circo  1928        Comedy, Romance       90.0   \n",
       "tt0019777            The Cocoanuts  1929        Comedy, Musical       69.0   \n",
       "\n",
       "               weighted_average_vote  total_votes  mean_vote  median_vote  \\\n",
       "imdb_title_id                                                               \n",
       "tt0006864                        7.8        13875        7.8          8.0   \n",
       "tt0017136                        8.3       156076        8.1          8.0   \n",
       "tt0018037                        6.5         8866        6.8          7.0   \n",
       "tt0018773                        8.1        27414        7.9          8.0   \n",
       "tt0019777                        7.0         6900        7.2          7.0   \n",
       "\n",
       "               votes_10  votes_9  ...  allgenders_30age_avg_vote  \\\n",
       "imdb_title_id                     ...                              \n",
       "tt0006864          3477     2230  ...                        7.7   \n",
       "tt0017136         37520    36112  ...                        8.2   \n",
       "tt0018037           999      589  ...                        6.4   \n",
       "tt0018773          4542     5699  ...                        8.1   \n",
       "tt0019777           813      496  ...                        6.9   \n",
       "\n",
       "               allgenders_45age_avg_vote  males_allages_avg_vote  \\\n",
       "imdb_title_id                                                      \n",
       "tt0006864                            7.8                     7.8   \n",
       "tt0017136                            8.3                     8.3   \n",
       "tt0018037                            6.6                     6.4   \n",
       "tt0018773                            8.1                     8.1   \n",
       "tt0019777                            7.1                     6.9   \n",
       "\n",
       "               males_18age_avg_vote  males_30age_avg_vote  \\\n",
       "imdb_title_id                                               \n",
       "tt0006864                       7.9                   7.7   \n",
       "tt0017136                       8.3                   8.2   \n",
       "tt0018037                       6.5                   6.4   \n",
       "tt0018773                       8.2                   8.1   \n",
       "tt0019777                       6.8                   6.8   \n",
       "\n",
       "               males_45age_avg_vote  females_allages_avg_vote  \\\n",
       "imdb_title_id                                                   \n",
       "tt0006864                       7.8                       7.5   \n",
       "tt0017136                       8.3                       8.3   \n",
       "tt0018037                       6.6                       6.6   \n",
       "tt0018773                       8.1                       8.2   \n",
       "tt0019777                       7.1                       7.2   \n",
       "\n",
       "               females_18age_avg_vote  females_30age_avg_vote  \\\n",
       "imdb_title_id                                                   \n",
       "tt0006864                         7.2                     7.4   \n",
       "tt0017136                         8.2                     8.3   \n",
       "tt0018037                         6.7                     6.4   \n",
       "tt0018773                         8.3                     8.1   \n",
       "tt0019777                         7.1                     7.1   \n",
       "\n",
       "               females_45age_avg_vote  \n",
       "imdb_title_id                          \n",
       "tt0006864                         8.0  \n",
       "tt0017136                         8.3  \n",
       "tt0018037                         6.8  \n",
       "tt0018773                         8.2  \n",
       "tt0019777                         7.3  \n",
       "\n",
       "[5 rows x 29 columns]"
      ]
     },
     "execution_count": 24,
     "metadata": {},
     "output_type": "execute_result"
    }
   ],
   "source": [
    "ratings.head()"
   ]
  },
  {
   "cell_type": "markdown",
   "id": "e230795b",
   "metadata": {},
   "source": [
    "# Integrate genres into the clean dataframe"
   ]
  },
  {
   "cell_type": "markdown",
   "id": "99a7ab08",
   "metadata": {},
   "source": [
    "There are 13216 films in our dataset, each of which have one or more genres associated with them in the following format:  \n",
    "  \n",
    "tt0006864              Drama, History  \n",
    "tt0017136               Drama, Sci-Fi  \n",
    "tt0018037       Drama, Music, Musical  \n",
    "tt0018773             Comedy, Romance  \n",
    "tt0019777             Comedy, Musical  \n",
    "                       ...             \n",
    "tt9845398                       Drama  \n",
    "tt9883996    Biography, Comedy, Drama  \n",
    "tt9892094                       Drama  \n",
    "tt9894470       Action, Crime, Horror  \n",
    "tt9898858              Action, Comedy  \n",
    "  \n",
    "We see that some films have multiple genres in the same string, so we have some cleaning to do. We need to figure out a way to find all the unique genres and create columns for each one, indicating which genre is associated with a given film using a 1 (True) or 0 (False)."
   ]
  },
  {
   "cell_type": "markdown",
   "id": "bbe07a58",
   "metadata": {},
   "source": [
    "Start by creating a list of the genres for each movie."
   ]
  },
  {
   "cell_type": "markdown",
   "id": "2230a327",
   "metadata": {},
   "source": [
    "The following code iterates through the list of movie's genres and, if there are multiple, splits them into lists. If we come across a genre that we haven't seen yet, we add it to the list ```genres_unique```."
   ]
  },
  {
   "cell_type": "code",
   "execution_count": 13,
   "id": "29aee8f2",
   "metadata": {},
   "outputs": [],
   "source": [
    "genres = ratings.genre"
   ]
  },
  {
   "cell_type": "code",
   "execution_count": 14,
   "id": "c12f43ac",
   "metadata": {},
   "outputs": [],
   "source": [
    "genres_unique = []\n",
    "\n",
    "for film in range(0,len(genres)):\n",
    "    film_genres = genres[film].split(\", \")\n",
    "    for genre in film_genres:\n",
    "        if (genre not in genres_unique):\n",
    "            genres_unique.append(genre)"
   ]
  },
  {
   "cell_type": "markdown",
   "id": "c0596696",
   "metadata": {},
   "source": [
    "Let's check if the list is indeed unique:"
   ]
  },
  {
   "cell_type": "code",
   "execution_count": 16,
   "id": "386a45e9",
   "metadata": {},
   "outputs": [
    {
     "data": {
      "text/plain": [
       "21"
      ]
     },
     "execution_count": 16,
     "metadata": {},
     "output_type": "execute_result"
    }
   ],
   "source": [
    "#pd.Series(genres_unique).nunique()\n",
    "# 21\n",
    "#len(genres_unique)\n",
    "# 21"
   ]
  },
  {
   "cell_type": "markdown",
   "id": "765792bd",
   "metadata": {},
   "source": [
    "There are 21 unique genres associated with the films in the dataset. Now we will cycle through each genre, creating a column for each one and assigning 1 if the film contains that genre, and 0 if it doesn't."
   ]
  },
  {
   "cell_type": "code",
   "execution_count": 17,
   "id": "f2c3e81f",
   "metadata": {},
   "outputs": [],
   "source": [
    "for genre in genres_unique:\n",
    "    ratings[genre] = ratings['genre'].str.contains(genre).astype(int)\n",
    "\n",
    "# Drop the messy genres column\n",
    "ratings = ratings.drop('genre', axis=1)"
   ]
  },
  {
   "cell_type": "markdown",
   "id": "708eb91b",
   "metadata": {},
   "source": [
    "The dataset now includes genre data in one-hot encoded form."
   ]
  },
  {
   "cell_type": "code",
   "execution_count": 18,
   "id": "16a11178",
   "metadata": {},
   "outputs": [
    {
     "data": {
      "text/html": [
       "<div>\n",
       "<style scoped>\n",
       "    .dataframe tbody tr th:only-of-type {\n",
       "        vertical-align: middle;\n",
       "    }\n",
       "\n",
       "    .dataframe tbody tr th {\n",
       "        vertical-align: top;\n",
       "    }\n",
       "\n",
       "    .dataframe thead th {\n",
       "        text-align: right;\n",
       "    }\n",
       "</style>\n",
       "<table border=\"1\" class=\"dataframe\">\n",
       "  <thead>\n",
       "    <tr style=\"text-align: right;\">\n",
       "      <th></th>\n",
       "      <th>title</th>\n",
       "      <th>year</th>\n",
       "      <th>metascore</th>\n",
       "      <th>weighted_average_vote</th>\n",
       "      <th>total_votes</th>\n",
       "      <th>mean_vote</th>\n",
       "      <th>median_vote</th>\n",
       "      <th>votes_10</th>\n",
       "      <th>votes_9</th>\n",
       "      <th>votes_8</th>\n",
       "      <th>...</th>\n",
       "      <th>Adventure</th>\n",
       "      <th>Family</th>\n",
       "      <th>Fantasy</th>\n",
       "      <th>Mystery</th>\n",
       "      <th>Thriller</th>\n",
       "      <th>Biography</th>\n",
       "      <th>Animation</th>\n",
       "      <th>Action</th>\n",
       "      <th>Film-Noir</th>\n",
       "      <th>Sport</th>\n",
       "    </tr>\n",
       "    <tr>\n",
       "      <th>imdb_title_id</th>\n",
       "      <th></th>\n",
       "      <th></th>\n",
       "      <th></th>\n",
       "      <th></th>\n",
       "      <th></th>\n",
       "      <th></th>\n",
       "      <th></th>\n",
       "      <th></th>\n",
       "      <th></th>\n",
       "      <th></th>\n",
       "      <th></th>\n",
       "      <th></th>\n",
       "      <th></th>\n",
       "      <th></th>\n",
       "      <th></th>\n",
       "      <th></th>\n",
       "      <th></th>\n",
       "      <th></th>\n",
       "      <th></th>\n",
       "      <th></th>\n",
       "      <th></th>\n",
       "    </tr>\n",
       "  </thead>\n",
       "  <tbody>\n",
       "    <tr>\n",
       "      <th>tt0006864</th>\n",
       "      <td>Intolerance</td>\n",
       "      <td>1916</td>\n",
       "      <td>99.0</td>\n",
       "      <td>7.8</td>\n",
       "      <td>13875</td>\n",
       "      <td>7.8</td>\n",
       "      <td>8.0</td>\n",
       "      <td>3477</td>\n",
       "      <td>2230</td>\n",
       "      <td>3214</td>\n",
       "      <td>...</td>\n",
       "      <td>0</td>\n",
       "      <td>0</td>\n",
       "      <td>0</td>\n",
       "      <td>0</td>\n",
       "      <td>0</td>\n",
       "      <td>0</td>\n",
       "      <td>0</td>\n",
       "      <td>0</td>\n",
       "      <td>0</td>\n",
       "      <td>0</td>\n",
       "    </tr>\n",
       "    <tr>\n",
       "      <th>tt0017136</th>\n",
       "      <td>Metropolis</td>\n",
       "      <td>1927</td>\n",
       "      <td>98.0</td>\n",
       "      <td>8.3</td>\n",
       "      <td>156076</td>\n",
       "      <td>8.1</td>\n",
       "      <td>8.0</td>\n",
       "      <td>37520</td>\n",
       "      <td>36112</td>\n",
       "      <td>39299</td>\n",
       "      <td>...</td>\n",
       "      <td>0</td>\n",
       "      <td>0</td>\n",
       "      <td>0</td>\n",
       "      <td>0</td>\n",
       "      <td>0</td>\n",
       "      <td>0</td>\n",
       "      <td>0</td>\n",
       "      <td>0</td>\n",
       "      <td>0</td>\n",
       "      <td>0</td>\n",
       "    </tr>\n",
       "    <tr>\n",
       "      <th>tt0018037</th>\n",
       "      <td>Il cantante di jazz</td>\n",
       "      <td>1927</td>\n",
       "      <td>66.0</td>\n",
       "      <td>6.5</td>\n",
       "      <td>8866</td>\n",
       "      <td>6.8</td>\n",
       "      <td>7.0</td>\n",
       "      <td>999</td>\n",
       "      <td>589</td>\n",
       "      <td>1135</td>\n",
       "      <td>...</td>\n",
       "      <td>0</td>\n",
       "      <td>0</td>\n",
       "      <td>0</td>\n",
       "      <td>0</td>\n",
       "      <td>0</td>\n",
       "      <td>0</td>\n",
       "      <td>0</td>\n",
       "      <td>0</td>\n",
       "      <td>0</td>\n",
       "      <td>0</td>\n",
       "    </tr>\n",
       "    <tr>\n",
       "      <th>tt0018773</th>\n",
       "      <td>Il circo</td>\n",
       "      <td>1928</td>\n",
       "      <td>90.0</td>\n",
       "      <td>8.1</td>\n",
       "      <td>27414</td>\n",
       "      <td>7.9</td>\n",
       "      <td>8.0</td>\n",
       "      <td>4542</td>\n",
       "      <td>5699</td>\n",
       "      <td>9607</td>\n",
       "      <td>...</td>\n",
       "      <td>0</td>\n",
       "      <td>0</td>\n",
       "      <td>0</td>\n",
       "      <td>0</td>\n",
       "      <td>0</td>\n",
       "      <td>0</td>\n",
       "      <td>0</td>\n",
       "      <td>0</td>\n",
       "      <td>0</td>\n",
       "      <td>0</td>\n",
       "    </tr>\n",
       "    <tr>\n",
       "      <th>tt0019777</th>\n",
       "      <td>The Cocoanuts</td>\n",
       "      <td>1929</td>\n",
       "      <td>69.0</td>\n",
       "      <td>7.0</td>\n",
       "      <td>6900</td>\n",
       "      <td>7.2</td>\n",
       "      <td>7.0</td>\n",
       "      <td>813</td>\n",
       "      <td>496</td>\n",
       "      <td>1362</td>\n",
       "      <td>...</td>\n",
       "      <td>0</td>\n",
       "      <td>0</td>\n",
       "      <td>0</td>\n",
       "      <td>0</td>\n",
       "      <td>0</td>\n",
       "      <td>0</td>\n",
       "      <td>0</td>\n",
       "      <td>0</td>\n",
       "      <td>0</td>\n",
       "      <td>0</td>\n",
       "    </tr>\n",
       "  </tbody>\n",
       "</table>\n",
       "<p>5 rows × 50 columns</p>\n",
       "</div>"
      ],
      "text/plain": [
       "                             title  year  metascore  weighted_average_vote  \\\n",
       "imdb_title_id                                                                \n",
       "tt0006864              Intolerance  1916       99.0                    7.8   \n",
       "tt0017136               Metropolis  1927       98.0                    8.3   \n",
       "tt0018037      Il cantante di jazz  1927       66.0                    6.5   \n",
       "tt0018773                 Il circo  1928       90.0                    8.1   \n",
       "tt0019777            The Cocoanuts  1929       69.0                    7.0   \n",
       "\n",
       "               total_votes  mean_vote  median_vote  votes_10  votes_9  \\\n",
       "imdb_title_id                                                           \n",
       "tt0006864            13875        7.8          8.0      3477     2230   \n",
       "tt0017136           156076        8.1          8.0     37520    36112   \n",
       "tt0018037             8866        6.8          7.0       999      589   \n",
       "tt0018773            27414        7.9          8.0      4542     5699   \n",
       "tt0019777             6900        7.2          7.0       813      496   \n",
       "\n",
       "               votes_8  ...  Adventure  Family  Fantasy  Mystery  Thriller  \\\n",
       "imdb_title_id           ...                                                  \n",
       "tt0006864         3214  ...          0       0        0        0         0   \n",
       "tt0017136        39299  ...          0       0        0        0         0   \n",
       "tt0018037         1135  ...          0       0        0        0         0   \n",
       "tt0018773         9607  ...          0       0        0        0         0   \n",
       "tt0019777         1362  ...          0       0        0        0         0   \n",
       "\n",
       "               Biography  Animation  Action  Film-Noir  Sport  \n",
       "imdb_title_id                                                  \n",
       "tt0006864              0          0       0          0      0  \n",
       "tt0017136              0          0       0          0      0  \n",
       "tt0018037              0          0       0          0      0  \n",
       "tt0018773              0          0       0          0      0  \n",
       "tt0019777              0          0       0          0      0  \n",
       "\n",
       "[5 rows x 50 columns]"
      ]
     },
     "execution_count": 18,
     "metadata": {},
     "output_type": "execute_result"
    }
   ],
   "source": [
    "ratings.head()"
   ]
  },
  {
   "cell_type": "markdown",
   "id": "26dbbc5d",
   "metadata": {},
   "source": [
    "Export data:"
   ]
  },
  {
   "cell_type": "code",
   "execution_count": null,
   "id": "03a635d4",
   "metadata": {
    "scrolled": true
   },
   "outputs": [],
   "source": [
    "ratings.to_csv('ratings_clean.csv')"
   ]
  },
  {
   "cell_type": "code",
   "execution_count": null,
   "id": "8c37f50f",
   "metadata": {},
   "outputs": [],
   "source": [
    "ratings.columns"
   ]
  },
  {
   "cell_type": "code",
   "execution_count": null,
   "id": "1421c0ab",
   "metadata": {},
   "outputs": [],
   "source": [
    "films_messy[['title']]"
   ]
  }
 ],
 "metadata": {
  "kernelspec": {
   "display_name": "Python 3 (ipykernel)",
   "language": "python",
   "name": "python3"
  },
  "language_info": {
   "codemirror_mode": {
    "name": "ipython",
    "version": 3
   },
   "file_extension": ".py",
   "mimetype": "text/x-python",
   "name": "python",
   "nbconvert_exporter": "python",
   "pygments_lexer": "ipython3",
   "version": "3.8.8"
  }
 },
 "nbformat": 4,
 "nbformat_minor": 5
}
