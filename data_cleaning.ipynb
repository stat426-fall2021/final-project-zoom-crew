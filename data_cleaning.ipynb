{
 "cells": [
  {
   "cell_type": "markdown",
   "id": "efc5244a",
   "metadata": {},
   "source": [
    "# Cleaning the data"
   ]
  },
  {
   "cell_type": "code",
   "execution_count": 2,
   "id": "c4007f5e",
   "metadata": {},
   "outputs": [],
   "source": [
    "import pandas as pd\n",
    "import numpy as np"
   ]
  },
  {
   "cell_type": "markdown",
   "id": "140b1e02",
   "metadata": {},
   "source": [
    "Read in ratings data"
   ]
  },
  {
   "cell_type": "code",
   "execution_count": 3,
   "id": "79d8956d",
   "metadata": {},
   "outputs": [],
   "source": [
    "ratings_messy = pd.read_csv(\"IMDb ratings.csv\")"
   ]
  },
  {
   "cell_type": "markdown",
   "id": "79d8bb37",
   "metadata": {},
   "source": [
    "Drop irrelevant columns"
   ]
  },
  {
   "cell_type": "code",
   "execution_count": 4,
   "id": "ad9f00ee",
   "metadata": {},
   "outputs": [
    {
     "name": "stderr",
     "output_type": "stream",
     "text": [
      "/var/folders/5r/j3mtn4sx1wv_xsdwft49lcdm0000gn/T/ipykernel_60568/920480223.py:1: FutureWarning: In a future version of pandas all arguments of DataFrame.drop except for the argument 'labels' will be keyword-only\n",
      "  ratings = ratings_messy.drop(['allgenders_0age_votes',\n"
     ]
    }
   ],
   "source": [
    "ratings = ratings_messy.drop(['allgenders_0age_votes',\n",
    "                              'allgenders_18age_votes',\n",
    "                              'allgenders_30age_votes',\n",
    "                              'allgenders_45age_votes',\n",
    "                              'males_allages_votes',\n",
    "                              'males_0age_votes',\n",
    "                              'males_18age_votes',\n",
    "                              'males_30age_votes',\n",
    "                              'males_45age_votes',\n",
    "                              'females_allages_votes',\n",
    "                              'females_0age_votes',\n",
    "                              'females_18age_votes',\n",
    "                              'females_30age_votes',\n",
    "                              'females_45age_votes',\n",
    "                              'top1000_voters_rating',\n",
    "                              'top1000_voters_votes',\n",
    "                              'us_voters_rating',\n",
    "                              'us_voters_votes',\n",
    "                              'non_us_voters_rating',\n",
    "                              'non_us_voters_votes'],\n",
    "                             1)"
   ]
  },
  {
   "cell_type": "markdown",
   "id": "814c8e05",
   "metadata": {},
   "source": [
    "# Integrate genres into the clean dataframe"
   ]
  },
  {
   "cell_type": "code",
   "execution_count": 5,
   "id": "aac33fa2",
   "metadata": {},
   "outputs": [
    {
     "data": {
      "text/plain": [
       "85855"
      ]
     },
     "execution_count": 5,
     "metadata": {},
     "output_type": "execute_result"
    }
   ],
   "source": [
    "len(ratings.index)"
   ]
  },
  {
   "cell_type": "markdown",
   "id": "71b6b7c3",
   "metadata": {},
   "source": [
    "There are 85855 films in our dataset, each of which have one or more genres associated with them in the following format:  \n",
    "  \n",
    "0                          Romance  \n",
    "1          Biography, Crime, Drama  \n",
    "2                            Drama  \n",
    "3                   Drama, History  \n",
    "4        Adventure, Drama, Fantasy  \n",
    "                   ...              \n",
    "85850                       Comedy  \n",
    "85851                Comedy, Drama  \n",
    "85852                        Drama  \n",
    "85853                Drama, Family  \n",
    "85854                        Drama  \n",
    "  \n",
    "We see that some films have multiple genres in the same string, so we have some cleaning to do. We need to figure out a way to find all the unique genres and create columns for each one, indicating which genre is associated with a given film using a 1 (True) or 0 (False)."
   ]
  },
  {
   "cell_type": "markdown",
   "id": "8d28e564",
   "metadata": {},
   "source": [
    "Start by creating a list of the genres for each movie."
   ]
  },
  {
   "cell_type": "code",
   "execution_count": 6,
   "id": "34cb7d86",
   "metadata": {},
   "outputs": [
    {
     "name": "stderr",
     "output_type": "stream",
     "text": [
      "/opt/anaconda3/lib/python3.8/site-packages/IPython/core/interactiveshell.py:3441: DtypeWarning: Columns (3) have mixed types.Specify dtype option on import or set low_memory=False.\n",
      "  exec(code_obj, self.user_global_ns, self.user_ns)\n"
     ]
    }
   ],
   "source": [
    "genres = pd.read_csv('IMDb movies.csv').genre\n",
    "ratings['genres'] = genres"
   ]
  },
  {
   "cell_type": "markdown",
   "id": "aacfcfd5",
   "metadata": {},
   "source": [
    "The following code iterates through the list of movie's genres and, if there are multiple, splits them into lists. If we come across a genre that we haven't seen yet, we add it to the list ```genres_unique```."
   ]
  },
  {
   "cell_type": "code",
   "execution_count": 7,
   "id": "5ee0b9a8",
   "metadata": {},
   "outputs": [],
   "source": [
    "genres_unique = []\n",
    "\n",
    "for film in range(0,len(genres)):\n",
    "    film_genres = genres[film].split(\", \")\n",
    "    for genre in film_genres:\n",
    "        if (genre not in genres_unique):\n",
    "            genres_unique.append(genre)"
   ]
  },
  {
   "cell_type": "markdown",
   "id": "1d3e60d8",
   "metadata": {},
   "source": [
    "Let's check if the list is indeed unique:"
   ]
  },
  {
   "cell_type": "code",
   "execution_count": 11,
   "id": "61fcfcfa",
   "metadata": {},
   "outputs": [],
   "source": [
    "#pd.Series(genres_unique).nunique()\n",
    "# 25\n",
    "#len(genres_unique)\n",
    "# 25"
   ]
  },
  {
   "cell_type": "markdown",
   "id": "f010d4c0",
   "metadata": {},
   "source": [
    "There are 25 unique genres associated with the films in the dataset. Now we will cycle through each genre, creating a column for each one and assigning 1 if the film contains that genre, and 0 if it doesn't."
   ]
  },
  {
   "cell_type": "code",
   "execution_count": 12,
   "id": "8be729ed",
   "metadata": {},
   "outputs": [],
   "source": [
    "for genre in genres_unique:\n",
    "    ratings[genre] = ratings['genres'].str.contains(genre).astype(int)\n",
    "\n",
    "# Drop the messy genres column\n",
    "ratings = ratings.drop('genres', axis=1)"
   ]
  },
  {
   "cell_type": "markdown",
   "id": "e49434cc",
   "metadata": {},
   "source": [
    "The dataset now includes genre data in one-hot encoded form."
   ]
  },
  {
   "cell_type": "code",
   "execution_count": 16,
   "id": "e755b4d9",
   "metadata": {},
   "outputs": [
    {
     "data": {
      "text/html": [
       "<div>\n",
       "<style scoped>\n",
       "    .dataframe tbody tr th:only-of-type {\n",
       "        vertical-align: middle;\n",
       "    }\n",
       "\n",
       "    .dataframe tbody tr th {\n",
       "        vertical-align: top;\n",
       "    }\n",
       "\n",
       "    .dataframe thead th {\n",
       "        text-align: right;\n",
       "    }\n",
       "</style>\n",
       "<table border=\"1\" class=\"dataframe\">\n",
       "  <thead>\n",
       "    <tr style=\"text-align: right;\">\n",
       "      <th></th>\n",
       "      <th>imdb_title_id</th>\n",
       "      <th>weighted_average_vote</th>\n",
       "      <th>total_votes</th>\n",
       "      <th>mean_vote</th>\n",
       "      <th>median_vote</th>\n",
       "      <th>votes_10</th>\n",
       "      <th>votes_9</th>\n",
       "      <th>votes_8</th>\n",
       "      <th>votes_7</th>\n",
       "      <th>votes_6</th>\n",
       "      <th>...</th>\n",
       "      <th>Thriller</th>\n",
       "      <th>Sport</th>\n",
       "      <th>Animation</th>\n",
       "      <th>Musical</th>\n",
       "      <th>Music</th>\n",
       "      <th>Film-Noir</th>\n",
       "      <th>Adult</th>\n",
       "      <th>Documentary</th>\n",
       "      <th>Reality-TV</th>\n",
       "      <th>News</th>\n",
       "    </tr>\n",
       "  </thead>\n",
       "  <tbody>\n",
       "    <tr>\n",
       "      <th>0</th>\n",
       "      <td>tt0000009</td>\n",
       "      <td>5.9</td>\n",
       "      <td>154</td>\n",
       "      <td>5.9</td>\n",
       "      <td>6.0</td>\n",
       "      <td>12</td>\n",
       "      <td>4</td>\n",
       "      <td>10</td>\n",
       "      <td>43</td>\n",
       "      <td>28</td>\n",
       "      <td>...</td>\n",
       "      <td>0</td>\n",
       "      <td>0</td>\n",
       "      <td>0</td>\n",
       "      <td>0</td>\n",
       "      <td>0</td>\n",
       "      <td>0</td>\n",
       "      <td>0</td>\n",
       "      <td>0</td>\n",
       "      <td>0</td>\n",
       "      <td>0</td>\n",
       "    </tr>\n",
       "    <tr>\n",
       "      <th>1</th>\n",
       "      <td>tt0000574</td>\n",
       "      <td>6.1</td>\n",
       "      <td>589</td>\n",
       "      <td>6.3</td>\n",
       "      <td>6.0</td>\n",
       "      <td>57</td>\n",
       "      <td>18</td>\n",
       "      <td>58</td>\n",
       "      <td>137</td>\n",
       "      <td>139</td>\n",
       "      <td>...</td>\n",
       "      <td>0</td>\n",
       "      <td>0</td>\n",
       "      <td>0</td>\n",
       "      <td>0</td>\n",
       "      <td>0</td>\n",
       "      <td>0</td>\n",
       "      <td>0</td>\n",
       "      <td>0</td>\n",
       "      <td>0</td>\n",
       "      <td>0</td>\n",
       "    </tr>\n",
       "    <tr>\n",
       "      <th>2</th>\n",
       "      <td>tt0001892</td>\n",
       "      <td>5.8</td>\n",
       "      <td>188</td>\n",
       "      <td>6.0</td>\n",
       "      <td>6.0</td>\n",
       "      <td>6</td>\n",
       "      <td>6</td>\n",
       "      <td>17</td>\n",
       "      <td>44</td>\n",
       "      <td>52</td>\n",
       "      <td>...</td>\n",
       "      <td>0</td>\n",
       "      <td>0</td>\n",
       "      <td>0</td>\n",
       "      <td>0</td>\n",
       "      <td>0</td>\n",
       "      <td>0</td>\n",
       "      <td>0</td>\n",
       "      <td>0</td>\n",
       "      <td>0</td>\n",
       "      <td>0</td>\n",
       "    </tr>\n",
       "    <tr>\n",
       "      <th>3</th>\n",
       "      <td>tt0002101</td>\n",
       "      <td>5.2</td>\n",
       "      <td>446</td>\n",
       "      <td>5.3</td>\n",
       "      <td>5.0</td>\n",
       "      <td>15</td>\n",
       "      <td>8</td>\n",
       "      <td>16</td>\n",
       "      <td>62</td>\n",
       "      <td>98</td>\n",
       "      <td>...</td>\n",
       "      <td>0</td>\n",
       "      <td>0</td>\n",
       "      <td>0</td>\n",
       "      <td>0</td>\n",
       "      <td>0</td>\n",
       "      <td>0</td>\n",
       "      <td>0</td>\n",
       "      <td>0</td>\n",
       "      <td>0</td>\n",
       "      <td>0</td>\n",
       "    </tr>\n",
       "    <tr>\n",
       "      <th>4</th>\n",
       "      <td>tt0002130</td>\n",
       "      <td>7.0</td>\n",
       "      <td>2237</td>\n",
       "      <td>6.9</td>\n",
       "      <td>7.0</td>\n",
       "      <td>210</td>\n",
       "      <td>225</td>\n",
       "      <td>436</td>\n",
       "      <td>641</td>\n",
       "      <td>344</td>\n",
       "      <td>...</td>\n",
       "      <td>0</td>\n",
       "      <td>0</td>\n",
       "      <td>0</td>\n",
       "      <td>0</td>\n",
       "      <td>0</td>\n",
       "      <td>0</td>\n",
       "      <td>0</td>\n",
       "      <td>0</td>\n",
       "      <td>0</td>\n",
       "      <td>0</td>\n",
       "    </tr>\n",
       "  </tbody>\n",
       "</table>\n",
       "<p>5 rows × 54 columns</p>\n",
       "</div>"
      ],
      "text/plain": [
       "  imdb_title_id  weighted_average_vote  total_votes  mean_vote  median_vote  \\\n",
       "0     tt0000009                    5.9          154        5.9          6.0   \n",
       "1     tt0000574                    6.1          589        6.3          6.0   \n",
       "2     tt0001892                    5.8          188        6.0          6.0   \n",
       "3     tt0002101                    5.2          446        5.3          5.0   \n",
       "4     tt0002130                    7.0         2237        6.9          7.0   \n",
       "\n",
       "   votes_10  votes_9  votes_8  votes_7  votes_6  ...  Thriller  Sport  \\\n",
       "0        12        4       10       43       28  ...         0      0   \n",
       "1        57       18       58      137      139  ...         0      0   \n",
       "2         6        6       17       44       52  ...         0      0   \n",
       "3        15        8       16       62       98  ...         0      0   \n",
       "4       210      225      436      641      344  ...         0      0   \n",
       "\n",
       "   Animation  Musical  Music  Film-Noir  Adult  Documentary  Reality-TV  News  \n",
       "0          0        0      0          0      0            0           0     0  \n",
       "1          0        0      0          0      0            0           0     0  \n",
       "2          0        0      0          0      0            0           0     0  \n",
       "3          0        0      0          0      0            0           0     0  \n",
       "4          0        0      0          0      0            0           0     0  \n",
       "\n",
       "[5 rows x 54 columns]"
      ]
     },
     "execution_count": 16,
     "metadata": {},
     "output_type": "execute_result"
    }
   ],
   "source": [
    "ratings.head()"
   ]
  },
  {
   "cell_type": "markdown",
   "id": "77694f06",
   "metadata": {},
   "source": [
    "Export data:"
   ]
  },
  {
   "cell_type": "code",
   "execution_count": 17,
   "id": "03a635d4",
   "metadata": {
    "scrolled": true
   },
   "outputs": [],
   "source": [
    "ratings.to_csv('ratings_clean.csv')"
   ]
  },
  {
   "cell_type": "code",
   "execution_count": null,
   "id": "b76fc31a",
   "metadata": {},
   "outputs": [],
   "source": []
  }
 ],
 "metadata": {
  "kernelspec": {
   "display_name": "Python 3 (ipykernel)",
   "language": "python",
   "name": "python3"
  },
  "language_info": {
   "codemirror_mode": {
    "name": "ipython",
    "version": 3
   },
   "file_extension": ".py",
   "mimetype": "text/x-python",
   "name": "python",
   "nbconvert_exporter": "python",
   "pygments_lexer": "ipython3",
   "version": "3.8.8"
  }
 },
 "nbformat": 4,
 "nbformat_minor": 5
}
