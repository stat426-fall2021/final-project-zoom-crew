{
 "cells": [
  {
   "cell_type": "markdown",
   "id": "99b1f496",
   "metadata": {},
   "source": [
    "# Cleaning the data"
   ]
  },
  {
   "cell_type": "code",
   "execution_count": 2,
   "id": "c4007f5e",
   "metadata": {},
   "outputs": [],
   "source": [
    "import pandas as pd\n",
    "import numpy as np"
   ]
  },
  {
   "cell_type": "markdown",
   "id": "058c1800",
   "metadata": {},
   "source": [
    "Read in ratings and movies data"
   ]
  },
  {
   "cell_type": "code",
   "execution_count": 3,
   "id": "79d8956d",
   "metadata": {},
   "outputs": [
    {
     "name": "stderr",
     "output_type": "stream",
     "text": [
      "/opt/anaconda3/lib/python3.8/site-packages/IPython/core/interactiveshell.py:3441: DtypeWarning: Columns (3) have mixed types.Specify dtype option on import or set low_memory=False.\n",
      "  exec(code_obj, self.user_global_ns, self.user_ns)\n"
     ]
    }
   ],
   "source": [
    "ratings_messy = pd.read_csv(\"IMDb ratings.csv\")\n",
    "films_messy = pd.read_csv(\"IMDb movies.csv\")"
   ]
  },
  {
   "cell_type": "markdown",
   "id": "5a73ca42",
   "metadata": {},
   "source": [
    "Set title IDs as index to smoothly join both tables, then drop unnecessary columns."
   ]
  },
  {
   "cell_type": "code",
   "execution_count": 4,
   "id": "cd88b281",
   "metadata": {
    "scrolled": true
   },
   "outputs": [],
   "source": [
    "films_messy = films_messy.set_index('imdb_title_id')\n",
    "ratings_messy = ratings_messy.set_index('imdb_title_id')"
   ]
  },
  {
   "cell_type": "markdown",
   "id": "758bd9fa",
   "metadata": {},
   "source": [
    "Check how many movies we can work with in this data, since metascore is our response variable."
   ]
  },
  {
   "cell_type": "code",
   "execution_count": 13,
   "id": "1a5e2a4f",
   "metadata": {},
   "outputs": [
    {
     "data": {
      "text/plain": [
       "13305"
      ]
     },
     "execution_count": 13,
     "metadata": {},
     "output_type": "execute_result"
    }
   ],
   "source": [
    "len(films_messy['metascore'].dropna())"
   ]
  },
  {
   "cell_type": "markdown",
   "id": "1e87bb6a",
   "metadata": {},
   "source": [
    "Join both tables, then drop unnecessary columns."
   ]
  },
  {
   "cell_type": "code",
   "execution_count": 9,
   "id": "ea128323",
   "metadata": {},
   "outputs": [
    {
     "data": {
      "text/plain": [
       "Index(['title', 'original_title', 'year', 'date_published', 'genre',\n",
       "       'duration', 'country', 'language', 'director', 'writer',\n",
       "       'production_company', 'actors', 'description', 'avg_vote', 'votes',\n",
       "       'budget', 'usa_gross_income', 'worlwide_gross_income', 'metascore',\n",
       "       'reviews_from_users', 'reviews_from_critics', 'weighted_average_vote',\n",
       "       'total_votes', 'mean_vote', 'median_vote', 'votes_10', 'votes_9',\n",
       "       'votes_8', 'votes_7', 'votes_6', 'votes_5', 'votes_4', 'votes_3',\n",
       "       'votes_2', 'votes_1', 'allgenders_0age_avg_vote',\n",
       "       'allgenders_0age_votes', 'allgenders_18age_avg_vote',\n",
       "       'allgenders_18age_votes', 'allgenders_30age_avg_vote',\n",
       "       'allgenders_30age_votes', 'allgenders_45age_avg_vote',\n",
       "       'allgenders_45age_votes', 'males_allages_avg_vote',\n",
       "       'males_allages_votes', 'males_0age_avg_vote', 'males_0age_votes',\n",
       "       'males_18age_avg_vote', 'males_18age_votes', 'males_30age_avg_vote',\n",
       "       'males_30age_votes', 'males_45age_avg_vote', 'males_45age_votes',\n",
       "       'females_allages_avg_vote', 'females_allages_votes',\n",
       "       'females_0age_avg_vote', 'females_0age_votes', 'females_18age_avg_vote',\n",
       "       'females_18age_votes', 'females_30age_avg_vote', 'females_30age_votes',\n",
       "       'females_45age_avg_vote', 'females_45age_votes',\n",
       "       'top1000_voters_rating', 'top1000_voters_votes', 'us_voters_rating',\n",
       "       'us_voters_votes', 'non_us_voters_rating', 'non_us_voters_votes'],\n",
       "      dtype='object')"
      ]
     },
     "execution_count": 9,
     "metadata": {},
     "output_type": "execute_result"
    }
   ],
   "source": [
    "combined_messy = pd.concat([films_messy, ratings_messy], axis=1)\n",
    "combined_messy.columns"
   ]
  },
  {
   "cell_type": "code",
   "execution_count": 79,
   "id": "ad9f00ee",
   "metadata": {},
   "outputs": [
    {
     "name": "stderr",
     "output_type": "stream",
     "text": [
      "/var/folders/5r/j3mtn4sx1wv_xsdwft49lcdm0000gn/T/ipykernel_76448/4007758708.py:1: FutureWarning: In a future version of pandas all arguments of DataFrame.drop except for the argument 'labels' will be keyword-only\n",
      "  ratings = combined_messy.drop(['original_title',\n"
     ]
    }
   ],
   "source": [
    "ratings = combined_messy.drop(['original_title',\n",
    "                               'date_published',\n",
    "                               'duration',\n",
    "                               'country',\n",
    "                               'language',\n",
    "                               'production_company',\n",
    "                               'description',\n",
    "                               'avg_vote',\n",
    "                               'votes',\n",
    "                               'budget',\n",
    "                               'usa_gross_income',\n",
    "                               'worlwide_gross_income',\n",
    "                               'reviews_from_users',\n",
    "                               'reviews_from_critics',\n",
    "                               'allgenders_0age_avg_vote', # Dropping this because so many NAs\n",
    "                               'allgenders_0age_votes',\n",
    "                               'allgenders_18age_votes',\n",
    "                               'allgenders_30age_votes',\n",
    "                               'allgenders_45age_votes',\n",
    "                               'males_allages_votes',\n",
    "                               'males_0age_avg_vote',      # Dropping this because so many NAs\n",
    "                               'males_0age_votes',\n",
    "                               'males_18age_votes',\n",
    "                               'males_30age_votes',\n",
    "                               'males_45age_votes',\n",
    "                               'females_allages_votes',\n",
    "                               'females_0age_avg_vote',    # Dropping this because so many NAs\n",
    "                               'females_0age_votes',\n",
    "                               'females_18age_votes',\n",
    "                               'females_30age_votes',\n",
    "                               'females_45age_votes',\n",
    "                               'top1000_voters_rating',\n",
    "                               'top1000_voters_votes',\n",
    "                               'us_voters_rating',\n",
    "                               'us_voters_votes',\n",
    "                               'non_us_voters_rating',\n",
    "                               'non_us_voters_votes'],\n",
    "                              1)"
   ]
  },
  {
   "cell_type": "markdown",
   "id": "0e3e1d15",
   "metadata": {},
   "source": [
    "As alluded to in the commented code, we planned to keep all of the average vote columns, but including the ones from critics under the age of 18 left a lot of missing data. This is presumably because it's not very common for people younger than 18 to be professional movie critics. The only column we want to lose data to is the metascore column, as that is our response."
   ]
  },
  {
   "cell_type": "code",
   "execution_count": 80,
   "id": "db0597fb",
   "metadata": {},
   "outputs": [],
   "source": [
    "ratings = ratings.dropna()"
   ]
  },
  {
   "cell_type": "code",
   "execution_count": 81,
   "id": "6fa7644b",
   "metadata": {},
   "outputs": [
    {
     "data": {
      "text/plain": [
       "13193"
      ]
     },
     "execution_count": 81,
     "metadata": {},
     "output_type": "execute_result"
    }
   ],
   "source": [
    "len(ratings)\n",
    "\n",
    "#len(films_messy['metascore'].dropna()) - len(ratings)"
   ]
  },
  {
   "cell_type": "markdown",
   "id": "25efda75",
   "metadata": {},
   "source": [
    "This looks good. We're only missing 112 movies that have a reported metascore to missing values from other columns."
   ]
  },
  {
   "cell_type": "code",
   "execution_count": 82,
   "id": "4dac38b8",
   "metadata": {},
   "outputs": [
    {
     "data": {
      "text/html": [
       "<div>\n",
       "<style scoped>\n",
       "    .dataframe tbody tr th:only-of-type {\n",
       "        vertical-align: middle;\n",
       "    }\n",
       "\n",
       "    .dataframe tbody tr th {\n",
       "        vertical-align: top;\n",
       "    }\n",
       "\n",
       "    .dataframe thead th {\n",
       "        text-align: right;\n",
       "    }\n",
       "</style>\n",
       "<table border=\"1\" class=\"dataframe\">\n",
       "  <thead>\n",
       "    <tr style=\"text-align: right;\">\n",
       "      <th></th>\n",
       "      <th>title</th>\n",
       "      <th>year</th>\n",
       "      <th>genre</th>\n",
       "      <th>director</th>\n",
       "      <th>writer</th>\n",
       "      <th>actors</th>\n",
       "      <th>metascore</th>\n",
       "      <th>weighted_average_vote</th>\n",
       "      <th>total_votes</th>\n",
       "      <th>mean_vote</th>\n",
       "      <th>...</th>\n",
       "      <th>allgenders_30age_avg_vote</th>\n",
       "      <th>allgenders_45age_avg_vote</th>\n",
       "      <th>males_allages_avg_vote</th>\n",
       "      <th>males_18age_avg_vote</th>\n",
       "      <th>males_30age_avg_vote</th>\n",
       "      <th>males_45age_avg_vote</th>\n",
       "      <th>females_allages_avg_vote</th>\n",
       "      <th>females_18age_avg_vote</th>\n",
       "      <th>females_30age_avg_vote</th>\n",
       "      <th>females_45age_avg_vote</th>\n",
       "    </tr>\n",
       "    <tr>\n",
       "      <th>imdb_title_id</th>\n",
       "      <th></th>\n",
       "      <th></th>\n",
       "      <th></th>\n",
       "      <th></th>\n",
       "      <th></th>\n",
       "      <th></th>\n",
       "      <th></th>\n",
       "      <th></th>\n",
       "      <th></th>\n",
       "      <th></th>\n",
       "      <th></th>\n",
       "      <th></th>\n",
       "      <th></th>\n",
       "      <th></th>\n",
       "      <th></th>\n",
       "      <th></th>\n",
       "      <th></th>\n",
       "      <th></th>\n",
       "      <th></th>\n",
       "      <th></th>\n",
       "      <th></th>\n",
       "    </tr>\n",
       "  </thead>\n",
       "  <tbody>\n",
       "    <tr>\n",
       "      <th>tt0006864</th>\n",
       "      <td>Intolerance</td>\n",
       "      <td>1916</td>\n",
       "      <td>Drama, History</td>\n",
       "      <td>D.W. Griffith</td>\n",
       "      <td>D.W. Griffith, Anita Loos</td>\n",
       "      <td>Lillian Gish, Mae Marsh, Robert Harron, F.A. T...</td>\n",
       "      <td>99.0</td>\n",
       "      <td>7.8</td>\n",
       "      <td>13875</td>\n",
       "      <td>7.8</td>\n",
       "      <td>...</td>\n",
       "      <td>7.7</td>\n",
       "      <td>7.8</td>\n",
       "      <td>7.8</td>\n",
       "      <td>7.9</td>\n",
       "      <td>7.7</td>\n",
       "      <td>7.8</td>\n",
       "      <td>7.5</td>\n",
       "      <td>7.2</td>\n",
       "      <td>7.4</td>\n",
       "      <td>8.0</td>\n",
       "    </tr>\n",
       "    <tr>\n",
       "      <th>tt0017136</th>\n",
       "      <td>Metropolis</td>\n",
       "      <td>1927</td>\n",
       "      <td>Drama, Sci-Fi</td>\n",
       "      <td>Fritz Lang</td>\n",
       "      <td>Thea von Harbou, Thea von Harbou</td>\n",
       "      <td>Alfred Abel, Gustav Fröhlich, Rudolf Klein-Rog...</td>\n",
       "      <td>98.0</td>\n",
       "      <td>8.3</td>\n",
       "      <td>156076</td>\n",
       "      <td>8.1</td>\n",
       "      <td>...</td>\n",
       "      <td>8.2</td>\n",
       "      <td>8.3</td>\n",
       "      <td>8.3</td>\n",
       "      <td>8.3</td>\n",
       "      <td>8.2</td>\n",
       "      <td>8.3</td>\n",
       "      <td>8.3</td>\n",
       "      <td>8.2</td>\n",
       "      <td>8.3</td>\n",
       "      <td>8.3</td>\n",
       "    </tr>\n",
       "    <tr>\n",
       "      <th>tt0018037</th>\n",
       "      <td>Il cantante di jazz</td>\n",
       "      <td>1927</td>\n",
       "      <td>Drama, Music, Musical</td>\n",
       "      <td>Alan Crosland</td>\n",
       "      <td>Samson Raphaelson, Alfred A. Cohn</td>\n",
       "      <td>Al Jolson, May McAvoy, Warner Oland, Eugenie B...</td>\n",
       "      <td>66.0</td>\n",
       "      <td>6.5</td>\n",
       "      <td>8866</td>\n",
       "      <td>6.8</td>\n",
       "      <td>...</td>\n",
       "      <td>6.4</td>\n",
       "      <td>6.6</td>\n",
       "      <td>6.4</td>\n",
       "      <td>6.5</td>\n",
       "      <td>6.4</td>\n",
       "      <td>6.6</td>\n",
       "      <td>6.6</td>\n",
       "      <td>6.7</td>\n",
       "      <td>6.4</td>\n",
       "      <td>6.8</td>\n",
       "    </tr>\n",
       "    <tr>\n",
       "      <th>tt0018773</th>\n",
       "      <td>Il circo</td>\n",
       "      <td>1928</td>\n",
       "      <td>Comedy, Romance</td>\n",
       "      <td>Charles Chaplin</td>\n",
       "      <td>Charles Chaplin</td>\n",
       "      <td>Al Ernest Garcia, Merna Kennedy, Harry Crocker...</td>\n",
       "      <td>90.0</td>\n",
       "      <td>8.1</td>\n",
       "      <td>27414</td>\n",
       "      <td>7.9</td>\n",
       "      <td>...</td>\n",
       "      <td>8.1</td>\n",
       "      <td>8.1</td>\n",
       "      <td>8.1</td>\n",
       "      <td>8.2</td>\n",
       "      <td>8.1</td>\n",
       "      <td>8.1</td>\n",
       "      <td>8.2</td>\n",
       "      <td>8.3</td>\n",
       "      <td>8.1</td>\n",
       "      <td>8.2</td>\n",
       "    </tr>\n",
       "    <tr>\n",
       "      <th>tt0019777</th>\n",
       "      <td>The Cocoanuts</td>\n",
       "      <td>1929</td>\n",
       "      <td>Comedy, Musical</td>\n",
       "      <td>Robert Florey, Joseph Santley</td>\n",
       "      <td>George S. Kaufman, Morrie Ryskind</td>\n",
       "      <td>The Marx Brothers, Zeppo Marx, Groucho Marx, H...</td>\n",
       "      <td>69.0</td>\n",
       "      <td>7.0</td>\n",
       "      <td>6900</td>\n",
       "      <td>7.2</td>\n",
       "      <td>...</td>\n",
       "      <td>6.9</td>\n",
       "      <td>7.1</td>\n",
       "      <td>6.9</td>\n",
       "      <td>6.8</td>\n",
       "      <td>6.8</td>\n",
       "      <td>7.1</td>\n",
       "      <td>7.2</td>\n",
       "      <td>7.1</td>\n",
       "      <td>7.1</td>\n",
       "      <td>7.3</td>\n",
       "    </tr>\n",
       "  </tbody>\n",
       "</table>\n",
       "<p>5 rows × 32 columns</p>\n",
       "</div>"
      ],
      "text/plain": [
       "                             title  year                  genre  \\\n",
       "imdb_title_id                                                     \n",
       "tt0006864              Intolerance  1916         Drama, History   \n",
       "tt0017136               Metropolis  1927          Drama, Sci-Fi   \n",
       "tt0018037      Il cantante di jazz  1927  Drama, Music, Musical   \n",
       "tt0018773                 Il circo  1928        Comedy, Romance   \n",
       "tt0019777            The Cocoanuts  1929        Comedy, Musical   \n",
       "\n",
       "                                    director  \\\n",
       "imdb_title_id                                  \n",
       "tt0006864                      D.W. Griffith   \n",
       "tt0017136                         Fritz Lang   \n",
       "tt0018037                      Alan Crosland   \n",
       "tt0018773                    Charles Chaplin   \n",
       "tt0019777      Robert Florey, Joseph Santley   \n",
       "\n",
       "                                          writer  \\\n",
       "imdb_title_id                                      \n",
       "tt0006864              D.W. Griffith, Anita Loos   \n",
       "tt0017136       Thea von Harbou, Thea von Harbou   \n",
       "tt0018037      Samson Raphaelson, Alfred A. Cohn   \n",
       "tt0018773                        Charles Chaplin   \n",
       "tt0019777      George S. Kaufman, Morrie Ryskind   \n",
       "\n",
       "                                                          actors  metascore  \\\n",
       "imdb_title_id                                                                 \n",
       "tt0006864      Lillian Gish, Mae Marsh, Robert Harron, F.A. T...       99.0   \n",
       "tt0017136      Alfred Abel, Gustav Fröhlich, Rudolf Klein-Rog...       98.0   \n",
       "tt0018037      Al Jolson, May McAvoy, Warner Oland, Eugenie B...       66.0   \n",
       "tt0018773      Al Ernest Garcia, Merna Kennedy, Harry Crocker...       90.0   \n",
       "tt0019777      The Marx Brothers, Zeppo Marx, Groucho Marx, H...       69.0   \n",
       "\n",
       "               weighted_average_vote  total_votes  mean_vote  ...  \\\n",
       "imdb_title_id                                                 ...   \n",
       "tt0006864                        7.8        13875        7.8  ...   \n",
       "tt0017136                        8.3       156076        8.1  ...   \n",
       "tt0018037                        6.5         8866        6.8  ...   \n",
       "tt0018773                        8.1        27414        7.9  ...   \n",
       "tt0019777                        7.0         6900        7.2  ...   \n",
       "\n",
       "               allgenders_30age_avg_vote  allgenders_45age_avg_vote  \\\n",
       "imdb_title_id                                                         \n",
       "tt0006864                            7.7                        7.8   \n",
       "tt0017136                            8.2                        8.3   \n",
       "tt0018037                            6.4                        6.6   \n",
       "tt0018773                            8.1                        8.1   \n",
       "tt0019777                            6.9                        7.1   \n",
       "\n",
       "               males_allages_avg_vote  males_18age_avg_vote  \\\n",
       "imdb_title_id                                                 \n",
       "tt0006864                         7.8                   7.9   \n",
       "tt0017136                         8.3                   8.3   \n",
       "tt0018037                         6.4                   6.5   \n",
       "tt0018773                         8.1                   8.2   \n",
       "tt0019777                         6.9                   6.8   \n",
       "\n",
       "               males_30age_avg_vote  males_45age_avg_vote  \\\n",
       "imdb_title_id                                               \n",
       "tt0006864                       7.7                   7.8   \n",
       "tt0017136                       8.2                   8.3   \n",
       "tt0018037                       6.4                   6.6   \n",
       "tt0018773                       8.1                   8.1   \n",
       "tt0019777                       6.8                   7.1   \n",
       "\n",
       "               females_allages_avg_vote  females_18age_avg_vote  \\\n",
       "imdb_title_id                                                     \n",
       "tt0006864                           7.5                     7.2   \n",
       "tt0017136                           8.3                     8.2   \n",
       "tt0018037                           6.6                     6.7   \n",
       "tt0018773                           8.2                     8.3   \n",
       "tt0019777                           7.2                     7.1   \n",
       "\n",
       "               females_30age_avg_vote  females_45age_avg_vote  \n",
       "imdb_title_id                                                  \n",
       "tt0006864                         7.4                     8.0  \n",
       "tt0017136                         8.3                     8.3  \n",
       "tt0018037                         6.4                     6.8  \n",
       "tt0018773                         8.1                     8.2  \n",
       "tt0019777                         7.1                     7.3  \n",
       "\n",
       "[5 rows x 32 columns]"
      ]
     },
     "execution_count": 82,
     "metadata": {},
     "output_type": "execute_result"
    }
   ],
   "source": [
    "ratings.head()"
   ]
  },
  {
   "cell_type": "markdown",
   "id": "e230795b",
   "metadata": {},
   "source": [
    "# Integrate genres into the clean dataframe"
   ]
  },
  {
   "cell_type": "markdown",
   "id": "99a7ab08",
   "metadata": {},
   "source": [
    "There are 13193 films in our dataset, each of which have one or more genres associated with them in the following format:  \n",
    "  \n",
    "tt0006864              Drama, History  \n",
    "tt0017136               Drama, Sci-Fi  \n",
    "tt0018037       Drama, Music, Musical  \n",
    "tt0018773             Comedy, Romance  \n",
    "tt0019777             Comedy, Musical  \n",
    "                       ...             \n",
    "tt9845398                       Drama  \n",
    "tt9883996    Biography, Comedy, Drama  \n",
    "tt9892094                       Drama  \n",
    "tt9894470       Action, Crime, Horror  \n",
    "tt9898858              Action, Comedy  \n",
    "  \n",
    "We see that some films have multiple genres in the same string, so we have some cleaning to do. We need to figure out a way to find all the unique genres and create columns for each one, indicating which genre is associated with a given film using a 1 (True) or 0 (False)."
   ]
  },
  {
   "cell_type": "markdown",
   "id": "bbe07a58",
   "metadata": {},
   "source": [
    "Start by creating a list of the genres for each movie."
   ]
  },
  {
   "cell_type": "code",
   "execution_count": 20,
   "id": "218eadae",
   "metadata": {},
   "outputs": [],
   "source": [
    "genres = ratings.genre"
   ]
  },
  {
   "cell_type": "markdown",
   "id": "2230a327",
   "metadata": {},
   "source": [
    "The following code iterates through the list of movie's genres and, if there are multiple, splits them into lists. If we come across a genre that we haven't seen yet, we add it to the list ```genres_unique```."
   ]
  },
  {
   "cell_type": "code",
   "execution_count": 83,
   "id": "c12f43ac",
   "metadata": {},
   "outputs": [],
   "source": [
    "genres_unique = []\n",
    "\n",
    "for film in range(0,len(genres)):\n",
    "    film_genres = genres[film].split(\", \")\n",
    "    for genre in film_genres:\n",
    "        if (genre not in genres_unique):\n",
    "            genres_unique.append(genre)"
   ]
  },
  {
   "cell_type": "markdown",
   "id": "c0596696",
   "metadata": {},
   "source": [
    "Let's check if the list is indeed unique:"
   ]
  },
  {
   "cell_type": "code",
   "execution_count": 84,
   "id": "386a45e9",
   "metadata": {},
   "outputs": [],
   "source": [
    "#pd.Series(genres_unique).nunique()\n",
    "# 21\n",
    "#len(genres_unique)\n",
    "# 21"
   ]
  },
  {
   "cell_type": "markdown",
   "id": "765792bd",
   "metadata": {},
   "source": [
    "There are 21 unique genres associated with the films in the dataset. Now we will cycle through each genre, creating a column for each one and assigning 1 if the film contains that genre, and 0 if it doesn't."
   ]
  },
  {
   "cell_type": "code",
   "execution_count": 85,
   "id": "f2c3e81f",
   "metadata": {},
   "outputs": [],
   "source": [
    "for genre in genres_unique:\n",
    "    ratings[genre] = ratings['genre'].str.contains(genre).astype(int)\n",
    "\n",
    "# Drop the messy genres column\n",
    "ratings = ratings.drop('genre', axis=1)"
   ]
  },
  {
   "cell_type": "markdown",
   "id": "708eb91b",
   "metadata": {},
   "source": [
    "The dataset now includes genre data in one-hot encoded form."
   ]
  },
  {
   "cell_type": "code",
   "execution_count": 86,
   "id": "16a11178",
   "metadata": {
    "scrolled": true
   },
   "outputs": [
    {
     "data": {
      "text/html": [
       "<div>\n",
       "<style scoped>\n",
       "    .dataframe tbody tr th:only-of-type {\n",
       "        vertical-align: middle;\n",
       "    }\n",
       "\n",
       "    .dataframe tbody tr th {\n",
       "        vertical-align: top;\n",
       "    }\n",
       "\n",
       "    .dataframe thead th {\n",
       "        text-align: right;\n",
       "    }\n",
       "</style>\n",
       "<table border=\"1\" class=\"dataframe\">\n",
       "  <thead>\n",
       "    <tr style=\"text-align: right;\">\n",
       "      <th></th>\n",
       "      <th>title</th>\n",
       "      <th>year</th>\n",
       "      <th>director</th>\n",
       "      <th>writer</th>\n",
       "      <th>actors</th>\n",
       "      <th>metascore</th>\n",
       "      <th>weighted_average_vote</th>\n",
       "      <th>total_votes</th>\n",
       "      <th>mean_vote</th>\n",
       "      <th>median_vote</th>\n",
       "      <th>...</th>\n",
       "      <th>Adventure</th>\n",
       "      <th>Family</th>\n",
       "      <th>Fantasy</th>\n",
       "      <th>Mystery</th>\n",
       "      <th>Thriller</th>\n",
       "      <th>Biography</th>\n",
       "      <th>Animation</th>\n",
       "      <th>Action</th>\n",
       "      <th>Film-Noir</th>\n",
       "      <th>Sport</th>\n",
       "    </tr>\n",
       "    <tr>\n",
       "      <th>imdb_title_id</th>\n",
       "      <th></th>\n",
       "      <th></th>\n",
       "      <th></th>\n",
       "      <th></th>\n",
       "      <th></th>\n",
       "      <th></th>\n",
       "      <th></th>\n",
       "      <th></th>\n",
       "      <th></th>\n",
       "      <th></th>\n",
       "      <th></th>\n",
       "      <th></th>\n",
       "      <th></th>\n",
       "      <th></th>\n",
       "      <th></th>\n",
       "      <th></th>\n",
       "      <th></th>\n",
       "      <th></th>\n",
       "      <th></th>\n",
       "      <th></th>\n",
       "      <th></th>\n",
       "    </tr>\n",
       "  </thead>\n",
       "  <tbody>\n",
       "    <tr>\n",
       "      <th>tt0006864</th>\n",
       "      <td>Intolerance</td>\n",
       "      <td>1916</td>\n",
       "      <td>D.W. Griffith</td>\n",
       "      <td>D.W. Griffith, Anita Loos</td>\n",
       "      <td>Lillian Gish, Mae Marsh, Robert Harron, F.A. T...</td>\n",
       "      <td>99.0</td>\n",
       "      <td>7.8</td>\n",
       "      <td>13875</td>\n",
       "      <td>7.8</td>\n",
       "      <td>8.0</td>\n",
       "      <td>...</td>\n",
       "      <td>0</td>\n",
       "      <td>0</td>\n",
       "      <td>0</td>\n",
       "      <td>0</td>\n",
       "      <td>0</td>\n",
       "      <td>0</td>\n",
       "      <td>0</td>\n",
       "      <td>0</td>\n",
       "      <td>0</td>\n",
       "      <td>0</td>\n",
       "    </tr>\n",
       "    <tr>\n",
       "      <th>tt0017136</th>\n",
       "      <td>Metropolis</td>\n",
       "      <td>1927</td>\n",
       "      <td>Fritz Lang</td>\n",
       "      <td>Thea von Harbou, Thea von Harbou</td>\n",
       "      <td>Alfred Abel, Gustav Fröhlich, Rudolf Klein-Rog...</td>\n",
       "      <td>98.0</td>\n",
       "      <td>8.3</td>\n",
       "      <td>156076</td>\n",
       "      <td>8.1</td>\n",
       "      <td>8.0</td>\n",
       "      <td>...</td>\n",
       "      <td>0</td>\n",
       "      <td>0</td>\n",
       "      <td>0</td>\n",
       "      <td>0</td>\n",
       "      <td>0</td>\n",
       "      <td>0</td>\n",
       "      <td>0</td>\n",
       "      <td>0</td>\n",
       "      <td>0</td>\n",
       "      <td>0</td>\n",
       "    </tr>\n",
       "    <tr>\n",
       "      <th>tt0018037</th>\n",
       "      <td>Il cantante di jazz</td>\n",
       "      <td>1927</td>\n",
       "      <td>Alan Crosland</td>\n",
       "      <td>Samson Raphaelson, Alfred A. Cohn</td>\n",
       "      <td>Al Jolson, May McAvoy, Warner Oland, Eugenie B...</td>\n",
       "      <td>66.0</td>\n",
       "      <td>6.5</td>\n",
       "      <td>8866</td>\n",
       "      <td>6.8</td>\n",
       "      <td>7.0</td>\n",
       "      <td>...</td>\n",
       "      <td>0</td>\n",
       "      <td>0</td>\n",
       "      <td>0</td>\n",
       "      <td>0</td>\n",
       "      <td>0</td>\n",
       "      <td>0</td>\n",
       "      <td>0</td>\n",
       "      <td>0</td>\n",
       "      <td>0</td>\n",
       "      <td>0</td>\n",
       "    </tr>\n",
       "    <tr>\n",
       "      <th>tt0018773</th>\n",
       "      <td>Il circo</td>\n",
       "      <td>1928</td>\n",
       "      <td>Charles Chaplin</td>\n",
       "      <td>Charles Chaplin</td>\n",
       "      <td>Al Ernest Garcia, Merna Kennedy, Harry Crocker...</td>\n",
       "      <td>90.0</td>\n",
       "      <td>8.1</td>\n",
       "      <td>27414</td>\n",
       "      <td>7.9</td>\n",
       "      <td>8.0</td>\n",
       "      <td>...</td>\n",
       "      <td>0</td>\n",
       "      <td>0</td>\n",
       "      <td>0</td>\n",
       "      <td>0</td>\n",
       "      <td>0</td>\n",
       "      <td>0</td>\n",
       "      <td>0</td>\n",
       "      <td>0</td>\n",
       "      <td>0</td>\n",
       "      <td>0</td>\n",
       "    </tr>\n",
       "    <tr>\n",
       "      <th>tt0019777</th>\n",
       "      <td>The Cocoanuts</td>\n",
       "      <td>1929</td>\n",
       "      <td>Robert Florey, Joseph Santley</td>\n",
       "      <td>George S. Kaufman, Morrie Ryskind</td>\n",
       "      <td>The Marx Brothers, Zeppo Marx, Groucho Marx, H...</td>\n",
       "      <td>69.0</td>\n",
       "      <td>7.0</td>\n",
       "      <td>6900</td>\n",
       "      <td>7.2</td>\n",
       "      <td>7.0</td>\n",
       "      <td>...</td>\n",
       "      <td>0</td>\n",
       "      <td>0</td>\n",
       "      <td>0</td>\n",
       "      <td>0</td>\n",
       "      <td>0</td>\n",
       "      <td>0</td>\n",
       "      <td>0</td>\n",
       "      <td>0</td>\n",
       "      <td>0</td>\n",
       "      <td>0</td>\n",
       "    </tr>\n",
       "  </tbody>\n",
       "</table>\n",
       "<p>5 rows × 52 columns</p>\n",
       "</div>"
      ],
      "text/plain": [
       "                             title  year                       director  \\\n",
       "imdb_title_id                                                             \n",
       "tt0006864              Intolerance  1916                  D.W. Griffith   \n",
       "tt0017136               Metropolis  1927                     Fritz Lang   \n",
       "tt0018037      Il cantante di jazz  1927                  Alan Crosland   \n",
       "tt0018773                 Il circo  1928                Charles Chaplin   \n",
       "tt0019777            The Cocoanuts  1929  Robert Florey, Joseph Santley   \n",
       "\n",
       "                                          writer  \\\n",
       "imdb_title_id                                      \n",
       "tt0006864              D.W. Griffith, Anita Loos   \n",
       "tt0017136       Thea von Harbou, Thea von Harbou   \n",
       "tt0018037      Samson Raphaelson, Alfred A. Cohn   \n",
       "tt0018773                        Charles Chaplin   \n",
       "tt0019777      George S. Kaufman, Morrie Ryskind   \n",
       "\n",
       "                                                          actors  metascore  \\\n",
       "imdb_title_id                                                                 \n",
       "tt0006864      Lillian Gish, Mae Marsh, Robert Harron, F.A. T...       99.0   \n",
       "tt0017136      Alfred Abel, Gustav Fröhlich, Rudolf Klein-Rog...       98.0   \n",
       "tt0018037      Al Jolson, May McAvoy, Warner Oland, Eugenie B...       66.0   \n",
       "tt0018773      Al Ernest Garcia, Merna Kennedy, Harry Crocker...       90.0   \n",
       "tt0019777      The Marx Brothers, Zeppo Marx, Groucho Marx, H...       69.0   \n",
       "\n",
       "               weighted_average_vote  total_votes  mean_vote  median_vote  \\\n",
       "imdb_title_id                                                               \n",
       "tt0006864                        7.8        13875        7.8          8.0   \n",
       "tt0017136                        8.3       156076        8.1          8.0   \n",
       "tt0018037                        6.5         8866        6.8          7.0   \n",
       "tt0018773                        8.1        27414        7.9          8.0   \n",
       "tt0019777                        7.0         6900        7.2          7.0   \n",
       "\n",
       "               ...  Adventure  Family  Fantasy  Mystery  Thriller  Biography  \\\n",
       "imdb_title_id  ...                                                             \n",
       "tt0006864      ...          0       0        0        0         0          0   \n",
       "tt0017136      ...          0       0        0        0         0          0   \n",
       "tt0018037      ...          0       0        0        0         0          0   \n",
       "tt0018773      ...          0       0        0        0         0          0   \n",
       "tt0019777      ...          0       0        0        0         0          0   \n",
       "\n",
       "               Animation  Action  Film-Noir  Sport  \n",
       "imdb_title_id                                       \n",
       "tt0006864              0       0          0      0  \n",
       "tt0017136              0       0          0      0  \n",
       "tt0018037              0       0          0      0  \n",
       "tt0018773              0       0          0      0  \n",
       "tt0019777              0       0          0      0  \n",
       "\n",
       "[5 rows x 52 columns]"
      ]
     },
     "execution_count": 86,
     "metadata": {},
     "output_type": "execute_result"
    }
   ],
   "source": [
    "ratings.head()"
   ]
  },
  {
   "cell_type": "markdown",
   "id": "2de09718",
   "metadata": {},
   "source": [
    "# Integrate directors, writers, and actors into clean dataframe"
   ]
  },
  {
   "cell_type": "code",
   "execution_count": 37,
   "id": "cca23bb2",
   "metadata": {},
   "outputs": [
    {
     "data": {
      "text/plain": [
       "imdb_title_id\n",
       "tt0006864                    D.W. Griffith\n",
       "tt0017136                       Fritz Lang\n",
       "tt0018037                    Alan Crosland\n",
       "tt0018773                  Charles Chaplin\n",
       "tt0019777    Robert Florey, Joseph Santley\n",
       "                         ...              \n",
       "tt9845398                     Lucio Castro\n",
       "tt9883996                        Euros Lyn\n",
       "tt9892094                     Bassam Tariq\n",
       "tt9894470                        Joe Begos\n",
       "tt9898858                    Michael Dowse\n",
       "Name: director, Length: 13193, dtype: object"
      ]
     },
     "execution_count": 37,
     "metadata": {},
     "output_type": "execute_result"
    }
   ],
   "source": [
    "ratings.director"
   ]
  },
  {
   "cell_type": "markdown",
   "id": "79e56ab0",
   "metadata": {},
   "source": [
    "The directors, writers, and actors, like the genres, have many different unique values and some with multiple people. For example, here are the directors:\n",
    "  \n",
    "tt0006864                    D.W. Griffith  \n",
    "tt0017136                       Fritz Lang  \n",
    "tt0018037                    Alan Crosland  \n",
    "tt0018773                  Charles Chaplin  \n",
    "tt0019777    Robert Florey, Joseph Santley  \n",
    "                         ...                \n",
    "tt9845398                     Lucio Castro  \n",
    "tt9883996                        Euros Lyn  \n",
    "tt9892094                     Bassam Tariq  \n",
    "tt9894470                        Joe Begos  \n",
    "tt9898858                    Michael Dowse  \n",
    "  \n",
    "For directors, writers, and actors, we need to perform a similar process as the process we performed above for the genres."
   ]
  },
  {
   "cell_type": "code",
   "execution_count": 28,
   "id": "ab13b1cc",
   "metadata": {},
   "outputs": [],
   "source": [
    "directors = ratings.director\n",
    "writers = ratings.writer\n",
    "actors = ratings.actors"
   ]
  },
  {
   "cell_type": "markdown",
   "id": "c988bbd0",
   "metadata": {},
   "source": [
    "The following code iterates through each list and, if there are multiple, splits them into lists. If we come across an actor/director/writer that we haven't seen yet, we add it to the respective list."
   ]
  },
  {
   "cell_type": "code",
   "execution_count": 53,
   "id": "c00561d5",
   "metadata": {},
   "outputs": [],
   "source": [
    "directors_unique = []\n",
    "\n",
    "for film in range(0,len(directors)):\n",
    "    film_directors = directors[film].split(\", \")\n",
    "    for director in film_directors:\n",
    "        if (director not in directors_unique):\n",
    "            directors_unique.append(director)"
   ]
  },
  {
   "cell_type": "code",
   "execution_count": 44,
   "id": "6ed93759",
   "metadata": {},
   "outputs": [],
   "source": [
    "writers_unique = []\n",
    "\n",
    "for film in range(0,len(writers)):\n",
    "    film_writers = writers[film].split(\", \")\n",
    "    for writer in film_writers:\n",
    "        if (writer not in writers_unique):\n",
    "            writers_unique.append(writer)"
   ]
  },
  {
   "cell_type": "code",
   "execution_count": 48,
   "id": "2d8d9e64",
   "metadata": {},
   "outputs": [],
   "source": [
    "actors_unique = []\n",
    "         \n",
    "for film in range(0,len(actors)):\n",
    "    film_actors = actors[film].split(\", \")\n",
    "    for actor in film_actors:\n",
    "        if (actor not in actors_unique):\n",
    "            actors_unique.append(actor)"
   ]
  },
  {
   "cell_type": "markdown",
   "id": "bd47e985",
   "metadata": {},
   "source": [
    "Let's check if the lists are indeed unique:"
   ]
  },
  {
   "cell_type": "code",
   "execution_count": 55,
   "id": "bcd83b59",
   "metadata": {},
   "outputs": [
    {
     "data": {
      "text/plain": [
       "6573"
      ]
     },
     "execution_count": 55,
     "metadata": {},
     "output_type": "execute_result"
    }
   ],
   "source": [
    "#pd.Series(directors_unique).nunique()\n",
    "# 6573\n",
    "#len(directors_unique)\n",
    "# 6573\n",
    "\n",
    "#pd.Series(writers_unique).nunique()\n",
    "# 12317\n",
    "#len(writers_unique)\n",
    "# 12317\n",
    "\n",
    "#pd.Series(actors_unique).nunique()\n",
    "# 92772\n",
    "#len(actors_unique)\n",
    "# 92772\n"
   ]
  },
  {
   "cell_type": "markdown",
   "id": "24b4bfd3",
   "metadata": {},
   "source": [
    "For column-naming conventions, we will now cycle through each of these lists, replacing spaces with underscores and adding whether the person is a director, writer, or actor."
   ]
  },
  {
   "cell_type": "code",
   "execution_count": 62,
   "id": "92a1a0b4",
   "metadata": {},
   "outputs": [],
   "source": [
    "directors_clean = []\n",
    "\n",
    "for director in directors_unique:\n",
    "    director_underscore = director.replace(\" \", \"_\")\n",
    "    director_underscore += \"_dir\"\n",
    "    directors_clean.append(director_underscore)"
   ]
  },
  {
   "cell_type": "code",
   "execution_count": 66,
   "id": "512a88c3",
   "metadata": {},
   "outputs": [],
   "source": [
    "writers_clean = []\n",
    "\n",
    "for writer in writers_unique:\n",
    "    writer_underscore = writer.replace(\" \", \"_\")\n",
    "    writer_underscore += \"_wri\"\n",
    "    writers_clean.append(writer_underscore)"
   ]
  },
  {
   "cell_type": "code",
   "execution_count": 68,
   "id": "a19d8f20",
   "metadata": {},
   "outputs": [],
   "source": [
    "actors_clean = []\n",
    "\n",
    "for actor in actors_unique:\n",
    "    actor_underscore = actor.replace(\" \", \"_\")\n",
    "    actor_underscore += \"_act\"\n",
    "    actors_clean.append(actor_underscore)"
   ]
  },
  {
   "cell_type": "markdown",
   "id": "14330d5c",
   "metadata": {},
   "source": [
    "There are 6573 unique directors, 12317 unique writers, and 92772 unique actors. Now we will cycle through each of these lists, creating a column for each element and assigning 1 if the film contains that director, writer, or actor, and 0 if it doesn't."
   ]
  },
  {
   "cell_type": "code",
   "execution_count": 87,
   "id": "5e9a449d",
   "metadata": {},
   "outputs": [
    {
     "name": "stderr",
     "output_type": "stream",
     "text": [
      "/var/folders/5r/j3mtn4sx1wv_xsdwft49lcdm0000gn/T/ipykernel_76448/1381502355.py:2: PerformanceWarning: DataFrame is highly fragmented.  This is usually the result of calling `frame.insert` many times, which has poor performance.  Consider joining all columns at once using pd.concat(axis=1) instead.  To get a de-fragmented frame, use `newframe = frame.copy()`\n",
      "  ratings[directors_clean[director_ind]] = ratings['director'].str.contains(directors_unique[director_ind]).astype(int)\n"
     ]
    }
   ],
   "source": [
    "for director_ind in range(0,len(directors_clean)):\n",
    "    ratings[directors_clean[director_ind]] = ratings['director'].str.contains(directors_unique[director_ind]).astype(int)\n",
    "\n",
    "# Drop the messy genres column\n",
    "ratings = ratings.drop('director', axis=1)"
   ]
  },
  {
   "cell_type": "code",
   "execution_count": 88,
   "id": "06de649f",
   "metadata": {},
   "outputs": [
    {
     "data": {
      "text/html": [
       "<div>\n",
       "<style scoped>\n",
       "    .dataframe tbody tr th:only-of-type {\n",
       "        vertical-align: middle;\n",
       "    }\n",
       "\n",
       "    .dataframe tbody tr th {\n",
       "        vertical-align: top;\n",
       "    }\n",
       "\n",
       "    .dataframe thead th {\n",
       "        text-align: right;\n",
       "    }\n",
       "</style>\n",
       "<table border=\"1\" class=\"dataframe\">\n",
       "  <thead>\n",
       "    <tr style=\"text-align: right;\">\n",
       "      <th></th>\n",
       "      <th>D.W._Griffith_dir</th>\n",
       "    </tr>\n",
       "    <tr>\n",
       "      <th>imdb_title_id</th>\n",
       "      <th></th>\n",
       "    </tr>\n",
       "  </thead>\n",
       "  <tbody>\n",
       "    <tr>\n",
       "      <th>tt0006864</th>\n",
       "      <td>1</td>\n",
       "    </tr>\n",
       "    <tr>\n",
       "      <th>tt0017136</th>\n",
       "      <td>0</td>\n",
       "    </tr>\n",
       "    <tr>\n",
       "      <th>tt0018037</th>\n",
       "      <td>0</td>\n",
       "    </tr>\n",
       "    <tr>\n",
       "      <th>tt0018773</th>\n",
       "      <td>0</td>\n",
       "    </tr>\n",
       "    <tr>\n",
       "      <th>tt0019777</th>\n",
       "      <td>0</td>\n",
       "    </tr>\n",
       "    <tr>\n",
       "      <th>...</th>\n",
       "      <td>...</td>\n",
       "    </tr>\n",
       "    <tr>\n",
       "      <th>tt9845398</th>\n",
       "      <td>0</td>\n",
       "    </tr>\n",
       "    <tr>\n",
       "      <th>tt9883996</th>\n",
       "      <td>0</td>\n",
       "    </tr>\n",
       "    <tr>\n",
       "      <th>tt9892094</th>\n",
       "      <td>0</td>\n",
       "    </tr>\n",
       "    <tr>\n",
       "      <th>tt9894470</th>\n",
       "      <td>0</td>\n",
       "    </tr>\n",
       "    <tr>\n",
       "      <th>tt9898858</th>\n",
       "      <td>0</td>\n",
       "    </tr>\n",
       "  </tbody>\n",
       "</table>\n",
       "<p>13193 rows × 1 columns</p>\n",
       "</div>"
      ],
      "text/plain": [
       "               D.W._Griffith_dir\n",
       "imdb_title_id                   \n",
       "tt0006864                      1\n",
       "tt0017136                      0\n",
       "tt0018037                      0\n",
       "tt0018773                      0\n",
       "tt0019777                      0\n",
       "...                          ...\n",
       "tt9845398                      0\n",
       "tt9883996                      0\n",
       "tt9892094                      0\n",
       "tt9894470                      0\n",
       "tt9898858                      0\n",
       "\n",
       "[13193 rows x 1 columns]"
      ]
     },
     "execution_count": 88,
     "metadata": {},
     "output_type": "execute_result"
    }
   ],
   "source": [
    "ratings[['D.W._Griffith_dir']]"
   ]
  },
  {
   "cell_type": "code",
   "execution_count": 89,
   "id": "c51ef1f2",
   "metadata": {},
   "outputs": [
    {
     "name": "stderr",
     "output_type": "stream",
     "text": [
      "/var/folders/5r/j3mtn4sx1wv_xsdwft49lcdm0000gn/T/ipykernel_76448/2574969597.py:2: PerformanceWarning: DataFrame is highly fragmented.  This is usually the result of calling `frame.insert` many times, which has poor performance.  Consider joining all columns at once using pd.concat(axis=1) instead.  To get a de-fragmented frame, use `newframe = frame.copy()`\n",
      "  ratings[writers_clean[writer_ind]] = ratings['writer'].str.contains(writers_unique[writer_ind]).astype(int)\n"
     ]
    }
   ],
   "source": [
    "for writer_ind in range(0,len(writers_clean)):\n",
    "    ratings[writers_clean[writer_ind]] = ratings['writer'].str.contains(writers_unique[writer_ind]).astype(int)\n",
    "\n",
    "# Drop the messy genres column\n",
    "ratings = ratings.drop('writer', axis=1)"
   ]
  },
  {
   "cell_type": "code",
   "execution_count": 91,
   "id": "ae08fd9c",
   "metadata": {},
   "outputs": [
    {
     "name": "stderr",
     "output_type": "stream",
     "text": [
      "/var/folders/5r/j3mtn4sx1wv_xsdwft49lcdm0000gn/T/ipykernel_76448/1034067502.py:2: PerformanceWarning: DataFrame is highly fragmented.  This is usually the result of calling `frame.insert` many times, which has poor performance.  Consider joining all columns at once using pd.concat(axis=1) instead.  To get a de-fragmented frame, use `newframe = frame.copy()`\n",
      "  ratings[actors_clean[actor_ind]] = ratings['actors'].str.contains(actors_unique[actor_ind]).astype(int)\n"
     ]
    }
   ],
   "source": [
    "for actor_ind in range(0,len(actors_clean)):\n",
    "    ratings[actors_clean[actor_ind]] = ratings['actors'].str.contains(actors_unique[actor_ind]).astype(int)\n",
    "\n",
    "# Drop the messy genres column\n",
    "ratings = ratings.drop('actors', axis=1)"
   ]
  },
  {
   "cell_type": "markdown",
   "id": "6b29863a",
   "metadata": {},
   "source": [
    "We will now export the complete dataset so it is available for analysis"
   ]
  },
  {
   "cell_type": "code",
   "execution_count": 129,
   "id": "b7f7a34b",
   "metadata": {},
   "outputs": [],
   "source": [
    "#ratings.to_csv('ratings_complete.csv')"
   ]
  },
  {
   "cell_type": "markdown",
   "id": "ab7f102d",
   "metadata": {},
   "source": [
    "Never mind, that was running for about an hour and a half and got up to 3 GB. We probably won't use that dataset anyways."
   ]
  },
  {
   "cell_type": "markdown",
   "id": "17fa4f98",
   "metadata": {},
   "source": [
    "Now the dataset has thousands of director, writer, and actor columns. There's no purpose in having columns for directors, writers, and actors who only have a small number of works tied to their name in this position. With the complete dataset now on our hands, we will drop all directors, writers, and actors who have directed/written/acted in two films or fewer."
   ]
  },
  {
   "cell_type": "code",
   "execution_count": 121,
   "id": "cd503e62",
   "metadata": {},
   "outputs": [],
   "source": [
    "# Store the names of all the columns in question into a list\n",
    "hotcoded_cols = ratings.columns[49:]"
   ]
  },
  {
   "cell_type": "code",
   "execution_count": 125,
   "id": "fe60cf48",
   "metadata": {},
   "outputs": [],
   "source": [
    "cols_to_drop = []\n",
    "\n",
    "for col in hotcoded_cols:\n",
    "    if (sum(ratings[col]) <= 2):\n",
    "        cols_to_drop.append(col)"
   ]
  },
  {
   "cell_type": "code",
   "execution_count": 126,
   "id": "4c66fa9a",
   "metadata": {},
   "outputs": [
    {
     "data": {
      "text/plain": [
       "93559"
      ]
     },
     "execution_count": 126,
     "metadata": {},
     "output_type": "execute_result"
    }
   ],
   "source": [
    "len(cols_to_drop)"
   ]
  },
  {
   "cell_type": "code",
   "execution_count": 127,
   "id": "adcf5d6a",
   "metadata": {},
   "outputs": [
    {
     "data": {
      "text/plain": [
       "111711"
      ]
     },
     "execution_count": 127,
     "metadata": {},
     "output_type": "execute_result"
    }
   ],
   "source": [
    "len(ratings.columns)"
   ]
  },
  {
   "cell_type": "code",
   "execution_count": 130,
   "id": "21678638",
   "metadata": {},
   "outputs": [],
   "source": [
    "ratings_refined = ratings.drop(cols_to_drop, axis=1)"
   ]
  },
  {
   "cell_type": "markdown",
   "id": "26dbbc5d",
   "metadata": {},
   "source": [
    "Export data:"
   ]
  },
  {
   "cell_type": "code",
   "execution_count": 133,
   "id": "03a635d4",
   "metadata": {
    "scrolled": true
   },
   "outputs": [],
   "source": [
    "ratings_refined.to_csv('ratings_refined.csv')"
   ]
  }
 ],
 "metadata": {
  "kernelspec": {
   "display_name": "Python 3 (ipykernel)",
   "language": "python",
   "name": "python3"
  },
  "language_info": {
   "codemirror_mode": {
    "name": "ipython",
    "version": 3
   },
   "file_extension": ".py",
   "mimetype": "text/x-python",
   "name": "python",
   "nbconvert_exporter": "python",
   "pygments_lexer": "ipython3",
   "version": "3.8.8"
  }
 },
 "nbformat": 4,
 "nbformat_minor": 5
}
