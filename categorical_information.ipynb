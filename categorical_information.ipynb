{
 "cells": [
  {
   "cell_type": "markdown",
   "id": "c09e8c71",
   "metadata": {},
   "source": [
    "# Integrate genres into the main dataframe"
   ]
  },
  {
   "cell_type": "code",
   "execution_count": 1,
   "id": "c863438c",
   "metadata": {},
   "outputs": [],
   "source": [
    "import pandas as pd"
   ]
  },
  {
   "cell_type": "markdown",
   "id": "46b5e0be",
   "metadata": {},
   "source": [
    "Read in the clean dataframe"
   ]
  },
  {
   "cell_type": "code",
   "execution_count": 2,
   "id": "a10eede6",
   "metadata": {},
   "outputs": [],
   "source": [
    "ratings = pd.read_csv('Ratings Clean.csv')"
   ]
  },
  {
   "cell_type": "code",
   "execution_count": 14,
   "id": "f4a180d0",
   "metadata": {},
   "outputs": [
    {
     "data": {
      "text/plain": [
       "85855"
      ]
     },
     "execution_count": 14,
     "metadata": {},
     "output_type": "execute_result"
    }
   ],
   "source": [
    "len(ratings.index)"
   ]
  },
  {
   "cell_type": "markdown",
   "id": "80a300e4",
   "metadata": {},
   "source": [
    "There are 85855 films in our dataset, each of which have one or more genres associated with them in the following format:  \n",
    "  \n",
    "0                          Romance  \n",
    "1          Biography, Crime, Drama  \n",
    "2                            Drama  \n",
    "3                   Drama, History  \n",
    "4        Adventure, Drama, Fantasy  \n",
    "                   ...              \n",
    "85850                       Comedy  \n",
    "85851                Comedy, Drama  \n",
    "85852                        Drama  \n",
    "85853                Drama, Family  \n",
    "85854                        Drama  \n",
    "  \n",
    "We see that some films have multiple genres in the same string, so we have some cleaning to do. We need to figure out a way to find all the unique genres and create columns for each one, indicating which genre is associated with a given film using a 1 (True) or 0 (False)."
   ]
  },
  {
   "cell_type": "markdown",
   "id": "2b81926b",
   "metadata": {},
   "source": [
    "Start by creating a list of the genres for each movie."
   ]
  },
  {
   "cell_type": "code",
   "execution_count": 7,
   "id": "9453a896",
   "metadata": {},
   "outputs": [],
   "source": [
    "genres = pd.read_csv('IMDb movies.csv').genre"
   ]
  },
  {
   "cell_type": "markdown",
   "id": "985cd3e5",
   "metadata": {},
   "source": [
    "The following code iterates through the list of movie's genres and, if there are multiple, splits them into lists. If we come across a genre that we haven't seen yet, we add it to the list ```genres_unique```."
   ]
  },
  {
   "cell_type": "code",
   "execution_count": 27,
   "id": "44561bda",
   "metadata": {},
   "outputs": [],
   "source": [
    "genres_unique = []\n",
    "\n",
    "for film in range(0,len(genres)):\n",
    "    film_genres = genres[film].split(\", \")\n",
    "    for genre in film_genres:\n",
    "        if (genre not in genres_unique):\n",
    "            genres_unique.append(genre)"
   ]
  },
  {
   "cell_type": "markdown",
   "id": "4715e0e0",
   "metadata": {},
   "source": [
    "Let's check if the list is indeed unique:"
   ]
  },
  {
   "cell_type": "code",
   "execution_count": 41,
   "id": "bb9fcfb2",
   "metadata": {},
   "outputs": [
    {
     "data": {
      "text/plain": [
       "25"
      ]
     },
     "execution_count": 41,
     "metadata": {},
     "output_type": "execute_result"
    }
   ],
   "source": [
    "#pd.Series(genres_unique).nunique()\n",
    "# 25\n",
    "#len(genres_unique)\n",
    "# 25"
   ]
  },
  {
   "cell_type": "markdown",
   "id": "a0c400dc",
   "metadata": {},
   "source": [
    "There are 25 unique genres associated with the films in the dataset."
   ]
  },
  {
   "cell_type": "code",
   "execution_count": null,
   "id": "2e932995",
   "metadata": {},
   "outputs": [],
   "source": []
  },
  {
   "cell_type": "code",
   "execution_count": null,
   "id": "d141948d",
   "metadata": {},
   "outputs": [],
   "source": []
  }
 ],
 "metadata": {
  "kernelspec": {
   "display_name": "Python 3 (ipykernel)",
   "language": "python",
   "name": "python3"
  },
  "language_info": {
   "codemirror_mode": {
    "name": "ipython",
    "version": 3
   },
   "file_extension": ".py",
   "mimetype": "text/x-python",
   "name": "python",
   "nbconvert_exporter": "python",
   "pygments_lexer": "ipython3",
   "version": "3.8.8"
  }
 },
 "nbformat": 4,
 "nbformat_minor": 5
}
