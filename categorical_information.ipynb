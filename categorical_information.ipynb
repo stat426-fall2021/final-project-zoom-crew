{
 "cells": [
  {
   "cell_type": "markdown",
   "id": "d69b479c",
   "metadata": {},
   "source": [
    "# Integrate genres into the main dataframe"
   ]
  },
  {
   "cell_type": "code",
   "execution_count": 1,
   "id": "c863438c",
   "metadata": {},
   "outputs": [],
   "source": [
    "import pandas as pd"
   ]
  },
  {
   "cell_type": "markdown",
   "id": "36914362",
   "metadata": {},
   "source": [
    "Read in the clean dataframe"
   ]
  },
  {
   "cell_type": "code",
   "execution_count": 55,
   "id": "a10eede6",
   "metadata": {},
   "outputs": [],
   "source": [
    "ratings = pd.read_csv('Ratings Clean.csv')"
   ]
  },
  {
   "cell_type": "code",
   "execution_count": 56,
   "id": "f4a180d0",
   "metadata": {},
   "outputs": [
    {
     "data": {
      "text/plain": [
       "85855"
      ]
     },
     "execution_count": 56,
     "metadata": {},
     "output_type": "execute_result"
    }
   ],
   "source": [
    "len(ratings.index)"
   ]
  },
  {
   "cell_type": "markdown",
   "id": "674cdd05",
   "metadata": {},
   "source": [
    "There are 85855 films in our dataset, each of which have one or more genres associated with them in the following format:  \n",
    "  \n",
    "0                          Romance  \n",
    "1          Biography, Crime, Drama  \n",
    "2                            Drama  \n",
    "3                   Drama, History  \n",
    "4        Adventure, Drama, Fantasy  \n",
    "                   ...              \n",
    "85850                       Comedy  \n",
    "85851                Comedy, Drama  \n",
    "85852                        Drama  \n",
    "85853                Drama, Family  \n",
    "85854                        Drama  \n",
    "  \n",
    "We see that some films have multiple genres in the same string, so we have some cleaning to do. We need to figure out a way to find all the unique genres and create columns for each one, indicating which genre is associated with a given film using a 1 (True) or 0 (False)."
   ]
  },
  {
   "cell_type": "markdown",
   "id": "5fa513d2",
   "metadata": {},
   "source": [
    "Start by creating a list of the genres for each movie."
   ]
  },
  {
   "cell_type": "code",
   "execution_count": 60,
   "id": "9453a896",
   "metadata": {},
   "outputs": [
    {
     "name": "stderr",
     "output_type": "stream",
     "text": [
      "/opt/anaconda3/lib/python3.8/site-packages/IPython/core/interactiveshell.py:3441: DtypeWarning: Columns (3) have mixed types.Specify dtype option on import or set low_memory=False.\n",
      "  exec(code_obj, self.user_global_ns, self.user_ns)\n"
     ]
    }
   ],
   "source": [
    "genres = pd.read_csv('IMDb movies.csv').genre\n",
    "ratings['genres'] = genres"
   ]
  },
  {
   "cell_type": "markdown",
   "id": "dcf4e595",
   "metadata": {},
   "source": [
    "The following code iterates through the list of movie's genres and, if there are multiple, splits them into lists. If we come across a genre that we haven't seen yet, we add it to the list ```genres_unique```."
   ]
  },
  {
   "cell_type": "code",
   "execution_count": 27,
   "id": "44561bda",
   "metadata": {},
   "outputs": [],
   "source": [
    "genres_unique = []\n",
    "\n",
    "for film in range(0,len(genres)):\n",
    "    film_genres = genres[film].split(\", \")\n",
    "    for genre in film_genres:\n",
    "        if (genre not in genres_unique):\n",
    "            genres_unique.append(genre)"
   ]
  },
  {
   "cell_type": "markdown",
   "id": "8de07ae9",
   "metadata": {},
   "source": [
    "Let's check if the list is indeed unique:"
   ]
  },
  {
   "cell_type": "code",
   "execution_count": 41,
   "id": "bb9fcfb2",
   "metadata": {},
   "outputs": [
    {
     "data": {
      "text/plain": [
       "25"
      ]
     },
     "execution_count": 41,
     "metadata": {},
     "output_type": "execute_result"
    }
   ],
   "source": [
    "#pd.Series(genres_unique).nunique()\n",
    "# 25\n",
    "#len(genres_unique)\n",
    "# 25"
   ]
  },
  {
   "cell_type": "markdown",
   "id": "f784e9e7",
   "metadata": {},
   "source": [
    "There are 25 unique genres associated with the films in the dataset. Now we will cycle through each genre, creating a column for each one and assigning 1 if the film contains that genre, and 0 if it doesn't."
   ]
  },
  {
   "cell_type": "code",
   "execution_count": 86,
   "id": "f8544858",
   "metadata": {},
   "outputs": [],
   "source": [
    "for genre in genres_unique:\n",
    "    ratings[genre] = ratings['genres'].str.contains(genre).astype(int)\n",
    "\n",
    "# Drop the messy genres column\n",
    "ratings = ratings.drop('genres', axis=1)"
   ]
  },
  {
   "cell_type": "markdown",
   "id": "167b7eab",
   "metadata": {},
   "source": [
    "The dataset now includes genre data in one-hot encoded form."
   ]
  },
  {
   "cell_type": "code",
   "execution_count": null,
   "id": "2611987e",
   "metadata": {},
   "outputs": [],
   "source": []
  }
 ],
 "metadata": {
  "kernelspec": {
   "display_name": "Python 3 (ipykernel)",
   "language": "python",
   "name": "python3"
  },
  "language_info": {
   "codemirror_mode": {
    "name": "ipython",
    "version": 3
   },
   "file_extension": ".py",
   "mimetype": "text/x-python",
   "name": "python",
   "nbconvert_exporter": "python",
   "pygments_lexer": "ipython3",
   "version": "3.8.8"
  }
 },
 "nbformat": 4,
 "nbformat_minor": 5
}
